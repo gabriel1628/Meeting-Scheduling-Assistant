{
 "cells": [
  {
   "cell_type": "code",
   "execution_count": 1,
   "metadata": {},
   "outputs": [],
   "source": [
    "import json\n",
    "from google_auth_oauthlib.flow import InstalledAppFlow\n",
    "from googleapiclient.discovery import build\n",
    "import requests\n",
    "from datetime import datetime, timezone, timedelta\n",
    "import os"
   ]
  },
  {
   "cell_type": "code",
   "execution_count": 2,
   "metadata": {},
   "outputs": [],
   "source": [
    "# Open and read the client's credentials\n",
    "file_path = f\"{os.environ['HOME']}/.google/Desktop_client_1_credentials.json\"\n",
    "with open(file_path, \"r\") as file:\n",
    "    data = json.load(file)\n",
    "\n",
    "client = data[\"installed\"]"
   ]
  },
  {
   "cell_type": "code",
   "execution_count": 3,
   "metadata": {},
   "outputs": [
    {
     "name": "stdout",
     "output_type": "stream",
     "text": [
      "Please visit this URL to authorize this application: https://accounts.google.com/o/oauth2/auth?response_type=code&client_id=739775398504-s4g34aqdoa5lddmgdn80atvgoc8umv1u.apps.googleusercontent.com&redirect_uri=http%3A%2F%2Flocalhost%3A55482%2F&scope=https%3A%2F%2Fwww.googleapis.com%2Fauth%2Fcalendar.readonly+https%3A%2F%2Fwww.googleapis.com%2Fauth%2Fcalendar.app.created&state=lcAIgThlzxf2p6TXSDk6rBMEgK2wEe&access_type=offline\n"
     ]
    }
   ],
   "source": [
    "SCOPES = [\"https://www.googleapis.com/auth/calendar.readonly\", \"https://www.googleapis.com/auth/calendar.app.created\"]\n",
    "flow = InstalledAppFlow.from_client_secrets_file(\n",
    "    file_path, SCOPES\n",
    ")\n",
    "creds = flow.run_local_server(port=0)"
   ]
  },
  {
   "cell_type": "code",
   "execution_count": 4,
   "metadata": {},
   "outputs": [
    {
     "name": "stdout",
     "output_type": "stream",
     "text": [
      "gabriel.work2510@gmail.com\n",
      "Anniversaires\n",
      "AI-assisted Calendar\n"
     ]
    }
   ],
   "source": [
    "service = build(\"calendar\", \"v3\", credentials=creds)\n",
    "calendar_list = service.calendarList().list().execute().get('items', [])\n",
    "for calendar in calendar_list:\n",
    "    print(calendar['summary'])"
   ]
  },
  {
   "cell_type": "code",
   "execution_count": 5,
   "metadata": {},
   "outputs": [],
   "source": [
    "# new_calendar = {\n",
    "#     'summary': 'AI-assisted Calendar',\n",
    "#     'timeZone': 'Europe/Paris'\n",
    "# }\n",
    "# created_calendar = service.calendars().insert(body=new_calendar).execute()\n",
    "# print(f\"Created calendar: {created_calendar['id']}\")\n",
    "\n",
    "# # Output : Created calendar: fa1a4a4f36818229f6513dc9c221f878aa42dd5c4ed9f6d567e707ae6701510e@group.calendar.google.com"
   ]
  },
  {
   "cell_type": "code",
   "execution_count": 6,
   "metadata": {},
   "outputs": [],
   "source": [
    "mycalendar = calendar_list[2]"
   ]
  },
  {
   "cell_type": "code",
   "execution_count": 7,
   "metadata": {},
   "outputs": [
    {
     "name": "stdout",
     "output_type": "stream",
     "text": [
      "Getting the upcoming 10 events in AI-assisted Calendar\n"
     ]
    },
    {
     "data": {
      "text/plain": [
       "[{'kind': 'calendar#event',\n",
       "  'etag': '\"3468665531938000\"',\n",
       "  'id': 'c8sj2cl3s98ersif6fhd42mv0s',\n",
       "  'status': 'confirmed',\n",
       "  'htmlLink': 'https://www.google.com/calendar/event?eid=YzhzajJjbDNzOThlcnNpZjZmaGQ0Mm12MHMgZmExYTRhNGYzNjgxODIyOWY2NTEzZGM5YzIyMWY4NzhhYTQyZGQ1YzRlZDlmNmQ1NjdlNzA3YWU2NzAxNTEwZUBn',\n",
       "  'created': '2024-12-16T07:06:05.000Z',\n",
       "  'updated': '2024-12-16T07:06:05.969Z',\n",
       "  'summary': 'Python Meeting',\n",
       "  'description': 'A meeting to discuss Python projects.',\n",
       "  'location': '800 Howard St., San Francisco, CA 94103',\n",
       "  'creator': {'email': 'gabriel.work2510@gmail.com'},\n",
       "  'organizer': {'email': 'fa1a4a4f36818229f6513dc9c221f878aa42dd5c4ed9f6d567e707ae6701510e@group.calendar.google.com',\n",
       "   'displayName': 'AI-assisted Calendar',\n",
       "   'self': True},\n",
       "  'start': {'dateTime': '2024-12-16T12:06:05+01:00',\n",
       "   'timeZone': 'Europe/Paris'},\n",
       "  'end': {'dateTime': '2024-12-16T12:36:05+01:00', 'timeZone': 'Europe/Paris'},\n",
       "  'iCalUID': 'c8sj2cl3s98ersif6fhd42mv0s@google.com',\n",
       "  'sequence': 0,\n",
       "  'reminders': {'useDefault': True},\n",
       "  'eventType': 'default'}]"
      ]
     },
     "execution_count": 7,
     "metadata": {},
     "output_type": "execute_result"
    }
   ],
   "source": [
    "def get_upcoming_events(calendar, n_events=10):\n",
    "    now = datetime.now(timezone.utc).replace(tzinfo=None).isoformat(timespec=\"seconds\") + \"Z\"  # \"Z\" indicates UTC time\n",
    "    print(f\"Getting the upcoming 10 events in {calendar['summary']}\")\n",
    "    events_result = (\n",
    "        service.events()\n",
    "        .list(\n",
    "            calendarId=calendar[\"id\"],\n",
    "            timeMin=now,\n",
    "            maxResults=n_events,\n",
    "            singleEvents=True,\n",
    "            orderBy=\"startTime\",\n",
    "        )\n",
    "        .execute()\n",
    "    )\n",
    "    events = events_result.get(\"items\", [])\n",
    "\n",
    "    if not events:\n",
    "        print(\"No upcoming events found.\")\n",
    "    else:\n",
    "        return events\n",
    "\n",
    "events = get_upcoming_events(mycalendar)\n",
    "events"
   ]
  },
  {
   "cell_type": "code",
   "execution_count": 8,
   "metadata": {},
   "outputs": [
    {
     "name": "stdout",
     "output_type": "stream",
     "text": [
      "Created event: aq0fl87mt3q9l79m4409tmldvs\n"
     ]
    }
   ],
   "source": [
    "# Insert an event\n",
    "start_time = (datetime.now() + timedelta(hours=1)).isoformat(timespec=\"seconds\")\n",
    "end_time = (datetime.now() + timedelta(hours=1, minutes=30)).isoformat(timespec=\"seconds\")\n",
    "calendar_timezone = \"Europe/Paris\"\n",
    "event = {\n",
    "    'summary': 'Python Meeting',\n",
    "    'location': '800 Howard St., San Francisco, CA 94103',\n",
    "    'description': 'A meeting to discuss Python projects.',\n",
    "    'start': {\n",
    "        'dateTime': start_time,\n",
    "        'timeZone': calendar_timezone,\n",
    "    },\n",
    "    'end': {\n",
    "        'dateTime': end_time,\n",
    "        'timeZone': calendar_timezone,\n",
    "    },\n",
    "}\n",
    "created_event = service.events().insert(calendarId=mycalendar['id'], body=event).execute()\n",
    "print(f\"Created event: {created_event['id']}\")"
   ]
  },
  {
   "cell_type": "code",
   "execution_count": 9,
   "metadata": {},
   "outputs": [
    {
     "name": "stdout",
     "output_type": "stream",
     "text": [
      "Getting the upcoming 10 events in AI-assisted Calendar\n"
     ]
    },
    {
     "data": {
      "text/plain": [
       "[{'kind': 'calendar#event',\n",
       "  'etag': '\"3468665531938000\"',\n",
       "  'id': 'c8sj2cl3s98ersif6fhd42mv0s',\n",
       "  'status': 'confirmed',\n",
       "  'htmlLink': 'https://www.google.com/calendar/event?eid=YzhzajJjbDNzOThlcnNpZjZmaGQ0Mm12MHMgZmExYTRhNGYzNjgxODIyOWY2NTEzZGM5YzIyMWY4NzhhYTQyZGQ1YzRlZDlmNmQ1NjdlNzA3YWU2NzAxNTEwZUBn',\n",
       "  'created': '2024-12-16T07:06:05.000Z',\n",
       "  'updated': '2024-12-16T07:06:05.969Z',\n",
       "  'summary': 'Python Meeting',\n",
       "  'description': 'A meeting to discuss Python projects.',\n",
       "  'location': '800 Howard St., San Francisco, CA 94103',\n",
       "  'creator': {'email': 'gabriel.work2510@gmail.com'},\n",
       "  'organizer': {'email': 'fa1a4a4f36818229f6513dc9c221f878aa42dd5c4ed9f6d567e707ae6701510e@group.calendar.google.com',\n",
       "   'displayName': 'AI-assisted Calendar',\n",
       "   'self': True},\n",
       "  'start': {'dateTime': '2024-12-16T12:06:05+01:00',\n",
       "   'timeZone': 'Europe/Paris'},\n",
       "  'end': {'dateTime': '2024-12-16T12:36:05+01:00', 'timeZone': 'Europe/Paris'},\n",
       "  'iCalUID': 'c8sj2cl3s98ersif6fhd42mv0s@google.com',\n",
       "  'sequence': 0,\n",
       "  'reminders': {'useDefault': True},\n",
       "  'eventType': 'default'},\n",
       " {'kind': 'calendar#event',\n",
       "  'etag': '\"3468665860182000\"',\n",
       "  'id': 'aq0fl87mt3q9l79m4409tmldvs',\n",
       "  'status': 'confirmed',\n",
       "  'htmlLink': 'https://www.google.com/calendar/event?eid=YXEwZmw4N210M3E5bDc5bTQ0MDl0bWxkdnMgZmExYTRhNGYzNjgxODIyOWY2NTEzZGM5YzIyMWY4NzhhYTQyZGQ1YzRlZDlmNmQ1NjdlNzA3YWU2NzAxNTEwZUBn',\n",
       "  'created': '2024-12-16T07:08:50.000Z',\n",
       "  'updated': '2024-12-16T07:08:50.091Z',\n",
       "  'summary': 'Python Meeting',\n",
       "  'description': 'A meeting to discuss Python projects.',\n",
       "  'location': '800 Howard St., San Francisco, CA 94103',\n",
       "  'creator': {'email': 'gabriel.work2510@gmail.com'},\n",
       "  'organizer': {'email': 'fa1a4a4f36818229f6513dc9c221f878aa42dd5c4ed9f6d567e707ae6701510e@group.calendar.google.com',\n",
       "   'displayName': 'AI-assisted Calendar',\n",
       "   'self': True},\n",
       "  'start': {'dateTime': '2024-12-16T12:08:49+01:00',\n",
       "   'timeZone': 'Europe/Paris'},\n",
       "  'end': {'dateTime': '2024-12-16T12:38:49+01:00', 'timeZone': 'Europe/Paris'},\n",
       "  'iCalUID': 'aq0fl87mt3q9l79m4409tmldvs@google.com',\n",
       "  'sequence': 0,\n",
       "  'reminders': {'useDefault': True},\n",
       "  'eventType': 'default'}]"
      ]
     },
     "execution_count": 9,
     "metadata": {},
     "output_type": "execute_result"
    }
   ],
   "source": [
    "def get_upcoming_events(calendar, n_events=10):\n",
    "    now = datetime.now(timezone.utc).replace(tzinfo=None).isoformat(timespec=\"seconds\") + \"Z\"  # \"Z\" indicates UTC time\n",
    "    print(f\"Getting the upcoming 10 events in {calendar['summary']}\")\n",
    "    events_result = (\n",
    "        service.events()\n",
    "        .list(\n",
    "            calendarId=calendar[\"id\"],\n",
    "            timeMin=now,\n",
    "            maxResults=n_events,\n",
    "            singleEvents=True,\n",
    "            orderBy=\"startTime\",\n",
    "        )\n",
    "        .execute()\n",
    "    )\n",
    "    events = events_result.get(\"items\", [])\n",
    "\n",
    "    if not events:\n",
    "        print(\"No upcoming events found.\")\n",
    "    else:\n",
    "        return events\n",
    "\n",
    "events = get_upcoming_events(calendar)\n",
    "events"
   ]
  },
  {
   "cell_type": "code",
   "execution_count": 10,
   "metadata": {},
   "outputs": [
    {
     "name": "stdout",
     "output_type": "stream",
     "text": [
      "Deleted event: c8sj2cl3s98ersif6fhd42mv0s\n"
     ]
    }
   ],
   "source": [
    "# Delete an event\n",
    "event_to_del = events[0]\n",
    "service.events().delete(calendarId=mycalendar['id'], eventId=event_to_del['id']).execute()\n",
    "print(f\"Deleted event: {event_to_del['id']}\")"
   ]
  },
  {
   "cell_type": "code",
   "execution_count": 11,
   "metadata": {},
   "outputs": [
    {
     "name": "stdout",
     "output_type": "stream",
     "text": [
      "Busy Times:\n",
      "\n",
      "Free Times:\n",
      "Start: 2024-12-16T07:09:00Z, End: 2024-12-17T07:09:00Z\n"
     ]
    }
   ],
   "source": [
    "# Your access token from the OAuth flow\n",
    "access_token = creds.token\n",
    "\n",
    "# Define headers for the request\n",
    "headers = {\n",
    "    'Authorization': f'Bearer {access_token}',\n",
    "    'Content-Type': 'application/json'\n",
    "}\n",
    "\n",
    "# Define the time range for the availability query\n",
    "# ISO 8601 format: 'YYYY-MM-DDTHH:MM:SSZ'\n",
    "start_time = datetime.now(timezone.utc).replace(tzinfo=None).isoformat(timespec=\"minutes\") + \":00Z\"\n",
    "end_time = (datetime.fromisoformat(start_time[:-1]) + timedelta(days=1)).isoformat() + \"Z\"\n",
    "\n",
    "# Set up the request payload\n",
    "data = {\n",
    "    \"timeMin\": start_time,\n",
    "    \"timeMax\": end_time,\n",
    "    \"items\": [{\"id\": \"primary\"}]  # 'primary' refers to your primary calendar\n",
    "}\n",
    "\n",
    "# Make the request to the Freebusy endpoint\n",
    "response = requests.post(\n",
    "    'https://www.googleapis.com/calendar/v3/freeBusy',\n",
    "    headers=headers,\n",
    "    json=data\n",
    ")\n",
    "\n",
    "# Check if the request was successful\n",
    "if response.status_code == 200:\n",
    "    freebusy_data = response.json()\n",
    "    busy_times = freebusy_data['calendars']['primary']['busy']\n",
    "    \n",
    "    # Print busy and free times\n",
    "    print(\"Busy Times:\")\n",
    "    for busy_period in busy_times:\n",
    "        print(f\"Start: {busy_period['start']}, End: {busy_period['end']}\")\n",
    "    \n",
    "    # Free times can be inferred based on gaps in busy times\n",
    "    print(\"\\nFree Times:\")\n",
    "    last_end_time = start_time\n",
    "    for busy_period in busy_times:\n",
    "        free_start = last_end_time\n",
    "        free_end = busy_period['start']\n",
    "        if free_start < free_end:\n",
    "            print(f\"Start: {free_start}, End: {free_end}\")\n",
    "        last_end_time = busy_period['end']\n",
    "    if last_end_time < end_time:\n",
    "        print(f\"Start: {last_end_time}, End: {end_time}\")\n",
    "\n",
    "else:\n",
    "    print(\"Failed to retrieve calendar data:\", response.json())\n"
   ]
  },
  {
   "cell_type": "code",
   "execution_count": null,
   "metadata": {},
   "outputs": [],
   "source": []
  }
 ],
 "metadata": {
  "kernelspec": {
   "display_name": ".venv",
   "language": "python",
   "name": "python3"
  },
  "language_info": {
   "codemirror_mode": {
    "name": "ipython",
    "version": 3
   },
   "file_extension": ".py",
   "mimetype": "text/x-python",
   "name": "python",
   "nbconvert_exporter": "python",
   "pygments_lexer": "ipython3",
   "version": "3.10.11"
  }
 },
 "nbformat": 4,
 "nbformat_minor": 2
}
