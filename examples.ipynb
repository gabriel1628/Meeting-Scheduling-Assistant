{
  "nbformat": 4,
  "nbformat_minor": 0,
  "metadata": {
    "colab": {
      "provenance": [],
      "mount_file_id": "1VhDgbwW_jgCHh529Y0_d53QGiCMHRbR5",
      "authorship_tag": "ABX9TyNUpm7ytlytynpqcSBP/7r7",
      "include_colab_link": true
    },
    "kernelspec": {
      "name": "python3",
      "display_name": "Python 3"
    },
    "language_info": {
      "name": "python"
    },
    "widgets": {
      "application/vnd.jupyter.widget-state+json": {
        "fd3a1a802b744c3aa5e68c72e9fe5ec4": {
          "model_module": "@jupyter-widgets/controls",
          "model_name": "HBoxModel",
          "model_module_version": "1.5.0",
          "state": {
            "_dom_classes": [],
            "_model_module": "@jupyter-widgets/controls",
            "_model_module_version": "1.5.0",
            "_model_name": "HBoxModel",
            "_view_count": null,
            "_view_module": "@jupyter-widgets/controls",
            "_view_module_version": "1.5.0",
            "_view_name": "HBoxView",
            "box_style": "",
            "children": [
              "IPY_MODEL_16e80ab6dc174544a6e3297374c21408",
              "IPY_MODEL_831f9225dc384f27ab17c3554aec1f44",
              "IPY_MODEL_3b48c3b738d24a698dd47e0e62b1d17e"
            ],
            "layout": "IPY_MODEL_814aa3cf888f46739364d045a0cbbe71"
          }
        },
        "16e80ab6dc174544a6e3297374c21408": {
          "model_module": "@jupyter-widgets/controls",
          "model_name": "HTMLModel",
          "model_module_version": "1.5.0",
          "state": {
            "_dom_classes": [],
            "_model_module": "@jupyter-widgets/controls",
            "_model_module_version": "1.5.0",
            "_model_name": "HTMLModel",
            "_view_count": null,
            "_view_module": "@jupyter-widgets/controls",
            "_view_module_version": "1.5.0",
            "_view_name": "HTMLView",
            "description": "",
            "description_tooltip": null,
            "layout": "IPY_MODEL_0e92f61ed6b2444dbb9bd6011778668f",
            "placeholder": "​",
            "style": "IPY_MODEL_a16eb49ef307468a80ca665e7b573edf",
            "value": "Map: 100%"
          }
        },
        "831f9225dc384f27ab17c3554aec1f44": {
          "model_module": "@jupyter-widgets/controls",
          "model_name": "FloatProgressModel",
          "model_module_version": "1.5.0",
          "state": {
            "_dom_classes": [],
            "_model_module": "@jupyter-widgets/controls",
            "_model_module_version": "1.5.0",
            "_model_name": "FloatProgressModel",
            "_view_count": null,
            "_view_module": "@jupyter-widgets/controls",
            "_view_module_version": "1.5.0",
            "_view_name": "ProgressView",
            "bar_style": "success",
            "description": "",
            "description_tooltip": null,
            "layout": "IPY_MODEL_3a2dd6e05394475cb55e680441f1b27d",
            "max": 308,
            "min": 0,
            "orientation": "horizontal",
            "style": "IPY_MODEL_b46c6a06d6f84e4a99daf2313362b4be",
            "value": 308
          }
        },
        "3b48c3b738d24a698dd47e0e62b1d17e": {
          "model_module": "@jupyter-widgets/controls",
          "model_name": "HTMLModel",
          "model_module_version": "1.5.0",
          "state": {
            "_dom_classes": [],
            "_model_module": "@jupyter-widgets/controls",
            "_model_module_version": "1.5.0",
            "_model_name": "HTMLModel",
            "_view_count": null,
            "_view_module": "@jupyter-widgets/controls",
            "_view_module_version": "1.5.0",
            "_view_name": "HTMLView",
            "description": "",
            "description_tooltip": null,
            "layout": "IPY_MODEL_e8c86cb501d84254a990bfa1b33e8c7c",
            "placeholder": "​",
            "style": "IPY_MODEL_ec14a28d05304987b57da2ca3bdab4d4",
            "value": " 308/308 [00:00&lt;00:00, 4563.86 examples/s]"
          }
        },
        "814aa3cf888f46739364d045a0cbbe71": {
          "model_module": "@jupyter-widgets/base",
          "model_name": "LayoutModel",
          "model_module_version": "1.2.0",
          "state": {
            "_model_module": "@jupyter-widgets/base",
            "_model_module_version": "1.2.0",
            "_model_name": "LayoutModel",
            "_view_count": null,
            "_view_module": "@jupyter-widgets/base",
            "_view_module_version": "1.2.0",
            "_view_name": "LayoutView",
            "align_content": null,
            "align_items": null,
            "align_self": null,
            "border": null,
            "bottom": null,
            "display": null,
            "flex": null,
            "flex_flow": null,
            "grid_area": null,
            "grid_auto_columns": null,
            "grid_auto_flow": null,
            "grid_auto_rows": null,
            "grid_column": null,
            "grid_gap": null,
            "grid_row": null,
            "grid_template_areas": null,
            "grid_template_columns": null,
            "grid_template_rows": null,
            "height": null,
            "justify_content": null,
            "justify_items": null,
            "left": null,
            "margin": null,
            "max_height": null,
            "max_width": null,
            "min_height": null,
            "min_width": null,
            "object_fit": null,
            "object_position": null,
            "order": null,
            "overflow": null,
            "overflow_x": null,
            "overflow_y": null,
            "padding": null,
            "right": null,
            "top": null,
            "visibility": null,
            "width": null
          }
        },
        "0e92f61ed6b2444dbb9bd6011778668f": {
          "model_module": "@jupyter-widgets/base",
          "model_name": "LayoutModel",
          "model_module_version": "1.2.0",
          "state": {
            "_model_module": "@jupyter-widgets/base",
            "_model_module_version": "1.2.0",
            "_model_name": "LayoutModel",
            "_view_count": null,
            "_view_module": "@jupyter-widgets/base",
            "_view_module_version": "1.2.0",
            "_view_name": "LayoutView",
            "align_content": null,
            "align_items": null,
            "align_self": null,
            "border": null,
            "bottom": null,
            "display": null,
            "flex": null,
            "flex_flow": null,
            "grid_area": null,
            "grid_auto_columns": null,
            "grid_auto_flow": null,
            "grid_auto_rows": null,
            "grid_column": null,
            "grid_gap": null,
            "grid_row": null,
            "grid_template_areas": null,
            "grid_template_columns": null,
            "grid_template_rows": null,
            "height": null,
            "justify_content": null,
            "justify_items": null,
            "left": null,
            "margin": null,
            "max_height": null,
            "max_width": null,
            "min_height": null,
            "min_width": null,
            "object_fit": null,
            "object_position": null,
            "order": null,
            "overflow": null,
            "overflow_x": null,
            "overflow_y": null,
            "padding": null,
            "right": null,
            "top": null,
            "visibility": null,
            "width": null
          }
        },
        "a16eb49ef307468a80ca665e7b573edf": {
          "model_module": "@jupyter-widgets/controls",
          "model_name": "DescriptionStyleModel",
          "model_module_version": "1.5.0",
          "state": {
            "_model_module": "@jupyter-widgets/controls",
            "_model_module_version": "1.5.0",
            "_model_name": "DescriptionStyleModel",
            "_view_count": null,
            "_view_module": "@jupyter-widgets/base",
            "_view_module_version": "1.2.0",
            "_view_name": "StyleView",
            "description_width": ""
          }
        },
        "3a2dd6e05394475cb55e680441f1b27d": {
          "model_module": "@jupyter-widgets/base",
          "model_name": "LayoutModel",
          "model_module_version": "1.2.0",
          "state": {
            "_model_module": "@jupyter-widgets/base",
            "_model_module_version": "1.2.0",
            "_model_name": "LayoutModel",
            "_view_count": null,
            "_view_module": "@jupyter-widgets/base",
            "_view_module_version": "1.2.0",
            "_view_name": "LayoutView",
            "align_content": null,
            "align_items": null,
            "align_self": null,
            "border": null,
            "bottom": null,
            "display": null,
            "flex": null,
            "flex_flow": null,
            "grid_area": null,
            "grid_auto_columns": null,
            "grid_auto_flow": null,
            "grid_auto_rows": null,
            "grid_column": null,
            "grid_gap": null,
            "grid_row": null,
            "grid_template_areas": null,
            "grid_template_columns": null,
            "grid_template_rows": null,
            "height": null,
            "justify_content": null,
            "justify_items": null,
            "left": null,
            "margin": null,
            "max_height": null,
            "max_width": null,
            "min_height": null,
            "min_width": null,
            "object_fit": null,
            "object_position": null,
            "order": null,
            "overflow": null,
            "overflow_x": null,
            "overflow_y": null,
            "padding": null,
            "right": null,
            "top": null,
            "visibility": null,
            "width": null
          }
        },
        "b46c6a06d6f84e4a99daf2313362b4be": {
          "model_module": "@jupyter-widgets/controls",
          "model_name": "ProgressStyleModel",
          "model_module_version": "1.5.0",
          "state": {
            "_model_module": "@jupyter-widgets/controls",
            "_model_module_version": "1.5.0",
            "_model_name": "ProgressStyleModel",
            "_view_count": null,
            "_view_module": "@jupyter-widgets/base",
            "_view_module_version": "1.2.0",
            "_view_name": "StyleView",
            "bar_color": null,
            "description_width": ""
          }
        },
        "e8c86cb501d84254a990bfa1b33e8c7c": {
          "model_module": "@jupyter-widgets/base",
          "model_name": "LayoutModel",
          "model_module_version": "1.2.0",
          "state": {
            "_model_module": "@jupyter-widgets/base",
            "_model_module_version": "1.2.0",
            "_model_name": "LayoutModel",
            "_view_count": null,
            "_view_module": "@jupyter-widgets/base",
            "_view_module_version": "1.2.0",
            "_view_name": "LayoutView",
            "align_content": null,
            "align_items": null,
            "align_self": null,
            "border": null,
            "bottom": null,
            "display": null,
            "flex": null,
            "flex_flow": null,
            "grid_area": null,
            "grid_auto_columns": null,
            "grid_auto_flow": null,
            "grid_auto_rows": null,
            "grid_column": null,
            "grid_gap": null,
            "grid_row": null,
            "grid_template_areas": null,
            "grid_template_columns": null,
            "grid_template_rows": null,
            "height": null,
            "justify_content": null,
            "justify_items": null,
            "left": null,
            "margin": null,
            "max_height": null,
            "max_width": null,
            "min_height": null,
            "min_width": null,
            "object_fit": null,
            "object_position": null,
            "order": null,
            "overflow": null,
            "overflow_x": null,
            "overflow_y": null,
            "padding": null,
            "right": null,
            "top": null,
            "visibility": null,
            "width": null
          }
        },
        "ec14a28d05304987b57da2ca3bdab4d4": {
          "model_module": "@jupyter-widgets/controls",
          "model_name": "DescriptionStyleModel",
          "model_module_version": "1.5.0",
          "state": {
            "_model_module": "@jupyter-widgets/controls",
            "_model_module_version": "1.5.0",
            "_model_name": "DescriptionStyleModel",
            "_view_count": null,
            "_view_module": "@jupyter-widgets/base",
            "_view_module_version": "1.2.0",
            "_view_name": "StyleView",
            "description_width": ""
          }
        },
        "6afce9b2703e44d5bc4fc4fb9e27359b": {
          "model_module": "@jupyter-widgets/controls",
          "model_name": "HBoxModel",
          "model_module_version": "1.5.0",
          "state": {
            "_dom_classes": [],
            "_model_module": "@jupyter-widgets/controls",
            "_model_module_version": "1.5.0",
            "_model_name": "HBoxModel",
            "_view_count": null,
            "_view_module": "@jupyter-widgets/controls",
            "_view_module_version": "1.5.0",
            "_view_name": "HBoxView",
            "box_style": "",
            "children": [
              "IPY_MODEL_a22cf3e8bd5a4fe299d7ec4a8fed8177",
              "IPY_MODEL_d648eea4dae94e3eaee1203f9dd20f66",
              "IPY_MODEL_44f6d4270ca04dbe86531bf5914ca335"
            ],
            "layout": "IPY_MODEL_999a743e6c6e4e79bdcba7c125376f48"
          }
        },
        "a22cf3e8bd5a4fe299d7ec4a8fed8177": {
          "model_module": "@jupyter-widgets/controls",
          "model_name": "HTMLModel",
          "model_module_version": "1.5.0",
          "state": {
            "_dom_classes": [],
            "_model_module": "@jupyter-widgets/controls",
            "_model_module_version": "1.5.0",
            "_model_name": "HTMLModel",
            "_view_count": null,
            "_view_module": "@jupyter-widgets/controls",
            "_view_module_version": "1.5.0",
            "_view_name": "HTMLView",
            "description": "",
            "description_tooltip": null,
            "layout": "IPY_MODEL_c65018eb13a24933997e6ca9bac62ef5",
            "placeholder": "​",
            "style": "IPY_MODEL_49b0fc1e7dad4e4ab629e4dd5355a4c8",
            "value": "Casting the dataset: 100%"
          }
        },
        "d648eea4dae94e3eaee1203f9dd20f66": {
          "model_module": "@jupyter-widgets/controls",
          "model_name": "FloatProgressModel",
          "model_module_version": "1.5.0",
          "state": {
            "_dom_classes": [],
            "_model_module": "@jupyter-widgets/controls",
            "_model_module_version": "1.5.0",
            "_model_name": "FloatProgressModel",
            "_view_count": null,
            "_view_module": "@jupyter-widgets/controls",
            "_view_module_version": "1.5.0",
            "_view_name": "ProgressView",
            "bar_style": "success",
            "description": "",
            "description_tooltip": null,
            "layout": "IPY_MODEL_e216cb157c41484ab8e14228d988a86b",
            "max": 264,
            "min": 0,
            "orientation": "horizontal",
            "style": "IPY_MODEL_8f47d8c1337349d0a01b842db6ebcef3",
            "value": 264
          }
        },
        "44f6d4270ca04dbe86531bf5914ca335": {
          "model_module": "@jupyter-widgets/controls",
          "model_name": "HTMLModel",
          "model_module_version": "1.5.0",
          "state": {
            "_dom_classes": [],
            "_model_module": "@jupyter-widgets/controls",
            "_model_module_version": "1.5.0",
            "_model_name": "HTMLModel",
            "_view_count": null,
            "_view_module": "@jupyter-widgets/controls",
            "_view_module_version": "1.5.0",
            "_view_name": "HTMLView",
            "description": "",
            "description_tooltip": null,
            "layout": "IPY_MODEL_363b3939b9394ab08ba01066e393b6b5",
            "placeholder": "​",
            "style": "IPY_MODEL_f7c6b3558b2e4d76acc2620f253c1942",
            "value": " 264/264 [00:00&lt;00:00, 6258.56 examples/s]"
          }
        },
        "999a743e6c6e4e79bdcba7c125376f48": {
          "model_module": "@jupyter-widgets/base",
          "model_name": "LayoutModel",
          "model_module_version": "1.2.0",
          "state": {
            "_model_module": "@jupyter-widgets/base",
            "_model_module_version": "1.2.0",
            "_model_name": "LayoutModel",
            "_view_count": null,
            "_view_module": "@jupyter-widgets/base",
            "_view_module_version": "1.2.0",
            "_view_name": "LayoutView",
            "align_content": null,
            "align_items": null,
            "align_self": null,
            "border": null,
            "bottom": null,
            "display": null,
            "flex": null,
            "flex_flow": null,
            "grid_area": null,
            "grid_auto_columns": null,
            "grid_auto_flow": null,
            "grid_auto_rows": null,
            "grid_column": null,
            "grid_gap": null,
            "grid_row": null,
            "grid_template_areas": null,
            "grid_template_columns": null,
            "grid_template_rows": null,
            "height": null,
            "justify_content": null,
            "justify_items": null,
            "left": null,
            "margin": null,
            "max_height": null,
            "max_width": null,
            "min_height": null,
            "min_width": null,
            "object_fit": null,
            "object_position": null,
            "order": null,
            "overflow": null,
            "overflow_x": null,
            "overflow_y": null,
            "padding": null,
            "right": null,
            "top": null,
            "visibility": null,
            "width": null
          }
        },
        "c65018eb13a24933997e6ca9bac62ef5": {
          "model_module": "@jupyter-widgets/base",
          "model_name": "LayoutModel",
          "model_module_version": "1.2.0",
          "state": {
            "_model_module": "@jupyter-widgets/base",
            "_model_module_version": "1.2.0",
            "_model_name": "LayoutModel",
            "_view_count": null,
            "_view_module": "@jupyter-widgets/base",
            "_view_module_version": "1.2.0",
            "_view_name": "LayoutView",
            "align_content": null,
            "align_items": null,
            "align_self": null,
            "border": null,
            "bottom": null,
            "display": null,
            "flex": null,
            "flex_flow": null,
            "grid_area": null,
            "grid_auto_columns": null,
            "grid_auto_flow": null,
            "grid_auto_rows": null,
            "grid_column": null,
            "grid_gap": null,
            "grid_row": null,
            "grid_template_areas": null,
            "grid_template_columns": null,
            "grid_template_rows": null,
            "height": null,
            "justify_content": null,
            "justify_items": null,
            "left": null,
            "margin": null,
            "max_height": null,
            "max_width": null,
            "min_height": null,
            "min_width": null,
            "object_fit": null,
            "object_position": null,
            "order": null,
            "overflow": null,
            "overflow_x": null,
            "overflow_y": null,
            "padding": null,
            "right": null,
            "top": null,
            "visibility": null,
            "width": null
          }
        },
        "49b0fc1e7dad4e4ab629e4dd5355a4c8": {
          "model_module": "@jupyter-widgets/controls",
          "model_name": "DescriptionStyleModel",
          "model_module_version": "1.5.0",
          "state": {
            "_model_module": "@jupyter-widgets/controls",
            "_model_module_version": "1.5.0",
            "_model_name": "DescriptionStyleModel",
            "_view_count": null,
            "_view_module": "@jupyter-widgets/base",
            "_view_module_version": "1.2.0",
            "_view_name": "StyleView",
            "description_width": ""
          }
        },
        "e216cb157c41484ab8e14228d988a86b": {
          "model_module": "@jupyter-widgets/base",
          "model_name": "LayoutModel",
          "model_module_version": "1.2.0",
          "state": {
            "_model_module": "@jupyter-widgets/base",
            "_model_module_version": "1.2.0",
            "_model_name": "LayoutModel",
            "_view_count": null,
            "_view_module": "@jupyter-widgets/base",
            "_view_module_version": "1.2.0",
            "_view_name": "LayoutView",
            "align_content": null,
            "align_items": null,
            "align_self": null,
            "border": null,
            "bottom": null,
            "display": null,
            "flex": null,
            "flex_flow": null,
            "grid_area": null,
            "grid_auto_columns": null,
            "grid_auto_flow": null,
            "grid_auto_rows": null,
            "grid_column": null,
            "grid_gap": null,
            "grid_row": null,
            "grid_template_areas": null,
            "grid_template_columns": null,
            "grid_template_rows": null,
            "height": null,
            "justify_content": null,
            "justify_items": null,
            "left": null,
            "margin": null,
            "max_height": null,
            "max_width": null,
            "min_height": null,
            "min_width": null,
            "object_fit": null,
            "object_position": null,
            "order": null,
            "overflow": null,
            "overflow_x": null,
            "overflow_y": null,
            "padding": null,
            "right": null,
            "top": null,
            "visibility": null,
            "width": null
          }
        },
        "8f47d8c1337349d0a01b842db6ebcef3": {
          "model_module": "@jupyter-widgets/controls",
          "model_name": "ProgressStyleModel",
          "model_module_version": "1.5.0",
          "state": {
            "_model_module": "@jupyter-widgets/controls",
            "_model_module_version": "1.5.0",
            "_model_name": "ProgressStyleModel",
            "_view_count": null,
            "_view_module": "@jupyter-widgets/base",
            "_view_module_version": "1.2.0",
            "_view_name": "StyleView",
            "bar_color": null,
            "description_width": ""
          }
        },
        "363b3939b9394ab08ba01066e393b6b5": {
          "model_module": "@jupyter-widgets/base",
          "model_name": "LayoutModel",
          "model_module_version": "1.2.0",
          "state": {
            "_model_module": "@jupyter-widgets/base",
            "_model_module_version": "1.2.0",
            "_model_name": "LayoutModel",
            "_view_count": null,
            "_view_module": "@jupyter-widgets/base",
            "_view_module_version": "1.2.0",
            "_view_name": "LayoutView",
            "align_content": null,
            "align_items": null,
            "align_self": null,
            "border": null,
            "bottom": null,
            "display": null,
            "flex": null,
            "flex_flow": null,
            "grid_area": null,
            "grid_auto_columns": null,
            "grid_auto_flow": null,
            "grid_auto_rows": null,
            "grid_column": null,
            "grid_gap": null,
            "grid_row": null,
            "grid_template_areas": null,
            "grid_template_columns": null,
            "grid_template_rows": null,
            "height": null,
            "justify_content": null,
            "justify_items": null,
            "left": null,
            "margin": null,
            "max_height": null,
            "max_width": null,
            "min_height": null,
            "min_width": null,
            "object_fit": null,
            "object_position": null,
            "order": null,
            "overflow": null,
            "overflow_x": null,
            "overflow_y": null,
            "padding": null,
            "right": null,
            "top": null,
            "visibility": null,
            "width": null
          }
        },
        "f7c6b3558b2e4d76acc2620f253c1942": {
          "model_module": "@jupyter-widgets/controls",
          "model_name": "DescriptionStyleModel",
          "model_module_version": "1.5.0",
          "state": {
            "_model_module": "@jupyter-widgets/controls",
            "_model_module_version": "1.5.0",
            "_model_name": "DescriptionStyleModel",
            "_view_count": null,
            "_view_module": "@jupyter-widgets/base",
            "_view_module_version": "1.2.0",
            "_view_name": "StyleView",
            "description_width": ""
          }
        },
        "908e46eae7e84825825717e30ca2b51f": {
          "model_module": "@jupyter-widgets/controls",
          "model_name": "HBoxModel",
          "model_module_version": "1.5.0",
          "state": {
            "_dom_classes": [],
            "_model_module": "@jupyter-widgets/controls",
            "_model_module_version": "1.5.0",
            "_model_name": "HBoxModel",
            "_view_count": null,
            "_view_module": "@jupyter-widgets/controls",
            "_view_module_version": "1.5.0",
            "_view_name": "HBoxView",
            "box_style": "",
            "children": [
              "IPY_MODEL_b7c6fbbf739a427ca531f62941201c9a",
              "IPY_MODEL_026d8b06c4df4bb8bd25c9038421de7e",
              "IPY_MODEL_3e45306c06d74bfab42a1009168ffab9"
            ],
            "layout": "IPY_MODEL_9ec72b7a5cf04f99bf68373c2f841a24"
          }
        },
        "b7c6fbbf739a427ca531f62941201c9a": {
          "model_module": "@jupyter-widgets/controls",
          "model_name": "HTMLModel",
          "model_module_version": "1.5.0",
          "state": {
            "_dom_classes": [],
            "_model_module": "@jupyter-widgets/controls",
            "_model_module_version": "1.5.0",
            "_model_name": "HTMLModel",
            "_view_count": null,
            "_view_module": "@jupyter-widgets/controls",
            "_view_module_version": "1.5.0",
            "_view_name": "HTMLView",
            "description": "",
            "description_tooltip": null,
            "layout": "IPY_MODEL_9abd9b4ba0fb41279bd72116fe494f1e",
            "placeholder": "​",
            "style": "IPY_MODEL_9e2101fc682241b3a7e40d19424f6f8d",
            "value": "Saving the dataset (1/1 shards): 100%"
          }
        },
        "026d8b06c4df4bb8bd25c9038421de7e": {
          "model_module": "@jupyter-widgets/controls",
          "model_name": "FloatProgressModel",
          "model_module_version": "1.5.0",
          "state": {
            "_dom_classes": [],
            "_model_module": "@jupyter-widgets/controls",
            "_model_module_version": "1.5.0",
            "_model_name": "FloatProgressModel",
            "_view_count": null,
            "_view_module": "@jupyter-widgets/controls",
            "_view_module_version": "1.5.0",
            "_view_name": "ProgressView",
            "bar_style": "success",
            "description": "",
            "description_tooltip": null,
            "layout": "IPY_MODEL_ace6ee53293d44e2974231d8d3d5f0c6",
            "max": 264,
            "min": 0,
            "orientation": "horizontal",
            "style": "IPY_MODEL_1786c78ef7ff4e5dbe12f12c1b002798",
            "value": 264
          }
        },
        "3e45306c06d74bfab42a1009168ffab9": {
          "model_module": "@jupyter-widgets/controls",
          "model_name": "HTMLModel",
          "model_module_version": "1.5.0",
          "state": {
            "_dom_classes": [],
            "_model_module": "@jupyter-widgets/controls",
            "_model_module_version": "1.5.0",
            "_model_name": "HTMLModel",
            "_view_count": null,
            "_view_module": "@jupyter-widgets/controls",
            "_view_module_version": "1.5.0",
            "_view_name": "HTMLView",
            "description": "",
            "description_tooltip": null,
            "layout": "IPY_MODEL_5277c5f791ed4d41a666da72092c23a9",
            "placeholder": "​",
            "style": "IPY_MODEL_700d83a463a94325a9cfc514a6a5f50b",
            "value": " 264/264 [00:00&lt;00:00, 758.00 examples/s]"
          }
        },
        "9ec72b7a5cf04f99bf68373c2f841a24": {
          "model_module": "@jupyter-widgets/base",
          "model_name": "LayoutModel",
          "model_module_version": "1.2.0",
          "state": {
            "_model_module": "@jupyter-widgets/base",
            "_model_module_version": "1.2.0",
            "_model_name": "LayoutModel",
            "_view_count": null,
            "_view_module": "@jupyter-widgets/base",
            "_view_module_version": "1.2.0",
            "_view_name": "LayoutView",
            "align_content": null,
            "align_items": null,
            "align_self": null,
            "border": null,
            "bottom": null,
            "display": null,
            "flex": null,
            "flex_flow": null,
            "grid_area": null,
            "grid_auto_columns": null,
            "grid_auto_flow": null,
            "grid_auto_rows": null,
            "grid_column": null,
            "grid_gap": null,
            "grid_row": null,
            "grid_template_areas": null,
            "grid_template_columns": null,
            "grid_template_rows": null,
            "height": null,
            "justify_content": null,
            "justify_items": null,
            "left": null,
            "margin": null,
            "max_height": null,
            "max_width": null,
            "min_height": null,
            "min_width": null,
            "object_fit": null,
            "object_position": null,
            "order": null,
            "overflow": null,
            "overflow_x": null,
            "overflow_y": null,
            "padding": null,
            "right": null,
            "top": null,
            "visibility": null,
            "width": null
          }
        },
        "9abd9b4ba0fb41279bd72116fe494f1e": {
          "model_module": "@jupyter-widgets/base",
          "model_name": "LayoutModel",
          "model_module_version": "1.2.0",
          "state": {
            "_model_module": "@jupyter-widgets/base",
            "_model_module_version": "1.2.0",
            "_model_name": "LayoutModel",
            "_view_count": null,
            "_view_module": "@jupyter-widgets/base",
            "_view_module_version": "1.2.0",
            "_view_name": "LayoutView",
            "align_content": null,
            "align_items": null,
            "align_self": null,
            "border": null,
            "bottom": null,
            "display": null,
            "flex": null,
            "flex_flow": null,
            "grid_area": null,
            "grid_auto_columns": null,
            "grid_auto_flow": null,
            "grid_auto_rows": null,
            "grid_column": null,
            "grid_gap": null,
            "grid_row": null,
            "grid_template_areas": null,
            "grid_template_columns": null,
            "grid_template_rows": null,
            "height": null,
            "justify_content": null,
            "justify_items": null,
            "left": null,
            "margin": null,
            "max_height": null,
            "max_width": null,
            "min_height": null,
            "min_width": null,
            "object_fit": null,
            "object_position": null,
            "order": null,
            "overflow": null,
            "overflow_x": null,
            "overflow_y": null,
            "padding": null,
            "right": null,
            "top": null,
            "visibility": null,
            "width": null
          }
        },
        "9e2101fc682241b3a7e40d19424f6f8d": {
          "model_module": "@jupyter-widgets/controls",
          "model_name": "DescriptionStyleModel",
          "model_module_version": "1.5.0",
          "state": {
            "_model_module": "@jupyter-widgets/controls",
            "_model_module_version": "1.5.0",
            "_model_name": "DescriptionStyleModel",
            "_view_count": null,
            "_view_module": "@jupyter-widgets/base",
            "_view_module_version": "1.2.0",
            "_view_name": "StyleView",
            "description_width": ""
          }
        },
        "ace6ee53293d44e2974231d8d3d5f0c6": {
          "model_module": "@jupyter-widgets/base",
          "model_name": "LayoutModel",
          "model_module_version": "1.2.0",
          "state": {
            "_model_module": "@jupyter-widgets/base",
            "_model_module_version": "1.2.0",
            "_model_name": "LayoutModel",
            "_view_count": null,
            "_view_module": "@jupyter-widgets/base",
            "_view_module_version": "1.2.0",
            "_view_name": "LayoutView",
            "align_content": null,
            "align_items": null,
            "align_self": null,
            "border": null,
            "bottom": null,
            "display": null,
            "flex": null,
            "flex_flow": null,
            "grid_area": null,
            "grid_auto_columns": null,
            "grid_auto_flow": null,
            "grid_auto_rows": null,
            "grid_column": null,
            "grid_gap": null,
            "grid_row": null,
            "grid_template_areas": null,
            "grid_template_columns": null,
            "grid_template_rows": null,
            "height": null,
            "justify_content": null,
            "justify_items": null,
            "left": null,
            "margin": null,
            "max_height": null,
            "max_width": null,
            "min_height": null,
            "min_width": null,
            "object_fit": null,
            "object_position": null,
            "order": null,
            "overflow": null,
            "overflow_x": null,
            "overflow_y": null,
            "padding": null,
            "right": null,
            "top": null,
            "visibility": null,
            "width": null
          }
        },
        "1786c78ef7ff4e5dbe12f12c1b002798": {
          "model_module": "@jupyter-widgets/controls",
          "model_name": "ProgressStyleModel",
          "model_module_version": "1.5.0",
          "state": {
            "_model_module": "@jupyter-widgets/controls",
            "_model_module_version": "1.5.0",
            "_model_name": "ProgressStyleModel",
            "_view_count": null,
            "_view_module": "@jupyter-widgets/base",
            "_view_module_version": "1.2.0",
            "_view_name": "StyleView",
            "bar_color": null,
            "description_width": ""
          }
        },
        "5277c5f791ed4d41a666da72092c23a9": {
          "model_module": "@jupyter-widgets/base",
          "model_name": "LayoutModel",
          "model_module_version": "1.2.0",
          "state": {
            "_model_module": "@jupyter-widgets/base",
            "_model_module_version": "1.2.0",
            "_model_name": "LayoutModel",
            "_view_count": null,
            "_view_module": "@jupyter-widgets/base",
            "_view_module_version": "1.2.0",
            "_view_name": "LayoutView",
            "align_content": null,
            "align_items": null,
            "align_self": null,
            "border": null,
            "bottom": null,
            "display": null,
            "flex": null,
            "flex_flow": null,
            "grid_area": null,
            "grid_auto_columns": null,
            "grid_auto_flow": null,
            "grid_auto_rows": null,
            "grid_column": null,
            "grid_gap": null,
            "grid_row": null,
            "grid_template_areas": null,
            "grid_template_columns": null,
            "grid_template_rows": null,
            "height": null,
            "justify_content": null,
            "justify_items": null,
            "left": null,
            "margin": null,
            "max_height": null,
            "max_width": null,
            "min_height": null,
            "min_width": null,
            "object_fit": null,
            "object_position": null,
            "order": null,
            "overflow": null,
            "overflow_x": null,
            "overflow_y": null,
            "padding": null,
            "right": null,
            "top": null,
            "visibility": null,
            "width": null
          }
        },
        "700d83a463a94325a9cfc514a6a5f50b": {
          "model_module": "@jupyter-widgets/controls",
          "model_name": "DescriptionStyleModel",
          "model_module_version": "1.5.0",
          "state": {
            "_model_module": "@jupyter-widgets/controls",
            "_model_module_version": "1.5.0",
            "_model_name": "DescriptionStyleModel",
            "_view_count": null,
            "_view_module": "@jupyter-widgets/base",
            "_view_module_version": "1.2.0",
            "_view_name": "StyleView",
            "description_width": ""
          }
        }
      }
    }
  },
  "cells": [
    {
      "cell_type": "markdown",
      "metadata": {
        "id": "view-in-github",
        "colab_type": "text"
      },
      "source": [
        "<a href=\"https://colab.research.google.com/github/gabriel1628/Meeting-Scheduling-Assistant/blob/main/examples.ipynb\" target=\"_parent\"><img src=\"https://colab.research.google.com/assets/colab-badge.svg\" alt=\"Open In Colab\"/></a>"
      ]
    },
    {
      "cell_type": "code",
      "source": [
        "!pip install datasets -q"
      ],
      "metadata": {
        "id": "26NN1TyuIKKv"
      },
      "execution_count": null,
      "outputs": []
    },
    {
      "cell_type": "markdown",
      "source": [
        "# Generating data"
      ],
      "metadata": {
        "id": "5WkpsNFy5qPl"
      }
    },
    {
      "cell_type": "code",
      "execution_count": null,
      "metadata": {
        "id": "KnrCm7qurg8X"
      },
      "outputs": [],
      "source": [
        "# from Meta Llama 3.1 70B Instruct\n",
        "# prompt 1 (french) : Génère 10 phrases similaires à la suivante : \"arrange un meeting avec Florian cette semaine ou la semaine prochaine dans l'après-midi\"\n",
        "# prompt 2 (french) : mets ces phrases dans une liste python\n",
        "# prompt 3 (frenc) : traduis ces phrases en anglais, dont la phrase d'exemple que je t'ai donné au début, et mets-les dans une liste python\n",
        "\n",
        "meeting_requests_1 = [\n",
        "    \"Arrange a meeting with Florian this week or next week in the afternoon\",\n",
        "    \"Schedule a meeting with Marc tomorrow morning or Thursday afternoon\",\n",
        "    \"Set up a call with the sales director Monday or Tuesday in the early afternoon\",\n",
        "    \"Arrange an interview with the marketing team Wednesday or Thursday morning\",\n",
        "    \"Organize a conference with stakeholders Friday or next Monday in the late morning\",\n",
        "    \"Schedule a meeting with the development team this week or next week in the early afternoon\",\n",
        "    \"Arrange a meeting with the sales manager tomorrow afternoon or Thursday morning\",\n",
        "    \"Schedule an interview with the selected candidate Monday or Tuesday in the late morning\",\n",
        "    \"Arrange a call with the supplier Wednesday or Thursday in the early afternoon\",\n",
        "    \"Schedule a meeting with the management team Friday or next Monday in the late afternoon\",\n",
        "    \"Set up a meeting with the commercial director tomorrow morning or Wednesday afternoon\"\n",
        "]"
      ]
    },
    {
      "cell_type": "code",
      "source": [
        "# still from Meta Llama 3.1 70B Instruct\n",
        "# prompt 4 (french) : Génère 10 phrases aléatoires en anglais et mets-les dans une liste python\n",
        "\n",
        "random_sentences_1 = [\n",
        "    \"The new project will be launched next quarter.\",\n",
        "    \"Can you please send me the updated report by Friday?\",\n",
        "    \"The team is working on a new marketing strategy.\",\n",
        "    \"We need to discuss the budget for the upcoming event.\",\n",
        "    \"The CEO will be visiting our office next week.\",\n",
        "    \"I'd like to schedule a meeting with the design team.\",\n",
        "    \"The new policy will be implemented starting next month.\",\n",
        "    \"Can you please provide an update on the current project status?\",\n",
        "    \"We're looking for a new candidate to join our team.\",\n",
        "    \"The company will be closed on Monday for a holiday.\"\n",
        "]"
      ],
      "metadata": {
        "id": "hOpAVWhSt0zf"
      },
      "execution_count": null,
      "outputs": []
    },
    {
      "cell_type": "code",
      "source": [
        "# still from Meta Llama 3.1 70B Instruct\n",
        "# prompt 5 (french) : oui, génère d'autres phrases à propos de la pluie et du beau temps, des actualités, ou toute autre chose\n",
        "\n",
        "random_sentences_2 = [\n",
        "    \"The weather forecast says it will rain all weekend.\",\n",
        "    \"I love spending time outdoors when the sun is shining.\",\n",
        "    \"The new smartphone is expected to be released next month.\",\n",
        "    \"The government has announced a new plan to reduce carbon emissions.\",\n",
        "    \"The stock market has been experiencing a lot of volatility lately.\",\n",
        "    \"I'm so excited for the upcoming music festival this summer.\",\n",
        "    \"The company is expanding its operations to new markets in Asia.\",\n",
        "    \"The latest research suggests that exercise can improve mental health.\",\n",
        "    \"The city is hosting a marathon next weekend, and I'm planning to participate.\",\n",
        "    \"The new restaurant in town is getting great reviews from food critics.\"\n",
        "]"
      ],
      "metadata": {
        "id": "z6WJ3KG-5faI"
      },
      "execution_count": null,
      "outputs": []
    },
    {
      "cell_type": "code",
      "source": [
        "# still from Meta Llama 3.1 70B Instruct\n",
        "# prompt 6 (french) : Génère de nouveau 10 phrases similaires au premier exemple, correspondant à une planification de réunion\n",
        "meeting_requests_2 = [\n",
        "    \"Arrange a meeting with the marketing team on Wednesday afternoon.\",\n",
        "    \"Schedule a call with the sales director on Friday morning.\",\n",
        "    \"Organize a conference with the stakeholders next Monday at 2 PM.\",\n",
        "    \"Set up a meeting with the development team on Thursday morning.\",\n",
        "    \"Plan a meeting with the design team on Tuesday afternoon.\",\n",
        "    \"Arrange a meeting with the CEO on Friday at 10 AM.\",\n",
        "    \"Schedule a meeting with the HR department on Wednesday morning.\",\n",
        "    \"Organize a meeting with the finance team on Monday afternoon.\",\n",
        "    \"Set up a call with the product manager on Thursday at 3 PM.\",\n",
        "    \"Arrange a meeting with the IT department on Tuesday morning.\"\n",
        "]"
      ],
      "metadata": {
        "id": "pZmIH2Gm6sgA"
      },
      "execution_count": null,
      "outputs": []
    },
    {
      "cell_type": "code",
      "source": [
        "# still from Meta Llama 3.1 70B Instruct\n",
        "# prompt 7 (french) : génère de nouvelles phrases mais en étant plus vague concernant le jour et l'heure\n",
        "\n",
        "meeting_requests_3 = [\n",
        "    \"Arrange a meeting with the marketing team sometime this week.\",\n",
        "    # \"Schedule a call with the sales director at your earliest convenience.\", # inappropriate\n",
        "    \"Organize a conference with the stakeholders in the coming weeks.\",\n",
        "    # \"Set up a meeting with the development team whenever works best for you.\", # inappropriate\n",
        "    \"Plan a meeting with the design team for later this month.\",\n",
        "    # \"Arrange a meeting with the CEO at a time that suits you.\", # inappropriate\n",
        "    \"Schedule a meeting with the HR department sometime soon.\",\n",
        "    \"Organize a meeting with the finance team in the near future.\",\n",
        "    # \"Set up a call with the product manager when you're available.\", # inappropriate\n",
        "    # \"Arrange a meeting with the IT department whenever is convenient for you.\" # inappropriate\n",
        "]"
      ],
      "metadata": {
        "id": "jUMXQJDW7U4-"
      },
      "execution_count": null,
      "outputs": []
    },
    {
      "cell_type": "code",
      "source": [
        "# still from Meta Llama 3.1 70B Instruct\n",
        "# prompt 8 (french) : génère 10 phrases aléatoires en lien avec la technologie, les voyages, la nourriture, le sport, ou tout autre chose si tu as des idées\n",
        "\n",
        "random_sentences_3 = [\n",
        "    \"The new smartphone app is revolutionizing the way we communicate.\",\n",
        "    \"I'm thinking of traveling to Japan for my next vacation.\",\n",
        "    \"Have you tried that new Italian restaurant downtown?\",\n",
        "    \"The marathon training is going well, I'm on track for a personal best.\",\n",
        "    \"The latest virtual reality headset is amazing, you have to try it.\",\n",
        "    \"I'm planning a road trip to the beach for the summer.\",\n",
        "    \"The new electric car is a game-changer for the environment.\",\n",
        "    \"I'm obsessed with trying new craft beers, have you tried any good ones lately?\",\n",
        "    \"The yoga retreat in Bali was life-changing, I highly recommend it.\",\n",
        "    \"The new video game is so realistic, it's like I'm actually in the game.\"\n",
        "]"
      ],
      "metadata": {
        "id": "3YwOsMDUo8eZ"
      },
      "execution_count": null,
      "outputs": []
    },
    {
      "cell_type": "code",
      "source": [
        "# taken and modified from Falcon Mamba 7B\n",
        "\n",
        "import random\n",
        "random.seed(42)\n",
        "\n",
        "requests = [\"Arrange\", \"Schedule\", \"Organize\", \"Set up\", \"Plan\"]\n",
        "meetings = [\"meeting\", \"call\", \"conference\"]\n",
        "teams = [\"marketing\", \"sales\", \"product development\", \"customer service\", \"HR\", \"IT\", \"design\", \"finance\", \"strategy\", \"executive\"]\n",
        "days = [\"Monday\", \"Tuesday\", \"Wednesday\", \"Thursday\", \"Friday\"]\n",
        "times = [\"morning\", \"afternoon\", \"evening\"]\n",
        "\n",
        "sentences = []\n",
        "\n",
        "for _ in range(10):\n",
        "    request = random.choice(requests)\n",
        "    meeting = random.choice(meetings)\n",
        "    team = random.choice(teams)\n",
        "    day = random.choice(days)\n",
        "    time = random.choice(times)\n",
        "    sentence = f\"{request} a {meeting} with the {team} team on {day} {time}.\"\n",
        "    sentences.append(sentence)\n",
        "\n",
        "sentences"
      ],
      "metadata": {
        "colab": {
          "base_uri": "https://localhost:8080/"
        },
        "id": "pTz7dW0BH35Q",
        "outputId": "45020db5-6eea-4c8c-8e3b-b1c83ab0a015"
      },
      "execution_count": null,
      "outputs": [
        {
          "output_type": "execute_result",
          "data": {
            "text/plain": [
              "['Arrange a meeting with the HR team on Tuesday morning.',\n",
              " 'Schedule a conference with the sales team on Friday morning.',\n",
              " 'Plan a call with the marketing team on Monday morning.',\n",
              " 'Schedule a meeting with the strategy team on Friday morning.',\n",
              " 'Plan a meeting with the strategy team on Thursday morning.',\n",
              " 'Set up a conference with the HR team on Monday morning.',\n",
              " 'Set up a call with the HR team on Tuesday morning.',\n",
              " 'Organize a meeting with the sales team on Thursday morning.',\n",
              " 'Organize a call with the executive team on Wednesday morning.',\n",
              " 'Set up a conference with the sales team on Thursday morning.']"
            ]
          },
          "metadata": {},
          "execution_count": 260
        }
      ]
    },
    {
      "cell_type": "code",
      "source": [
        "examples = [\n",
        "    \"Arrange a meeting with Florian next week in the afternoon\",\n",
        "    \"Schedule a meeting with Marc tomorrow morning or Thursday afternoon\",\n",
        "    \"Plan a meeting with the design team for later this month\",\n",
        "    \"Schedule a call with the sales director on Friday morning\",\n",
        "    \"I want a call with John for next Wednesday at 2 PM\",\n",
        "]"
      ],
      "metadata": {
        "id": "XYHVWLy3m4Py"
      },
      "execution_count": null,
      "outputs": []
    },
    {
      "cell_type": "code",
      "source": [
        "# Generated with Meta Llama 3.1 70B Instruct\n",
        "# Prompt 1 :\n",
        "# Generate 10 sentences for a meeting scheduling request and put them in a Python list. Here are 4 examples of sentences :\n",
        "# [\n",
        "#     \"Arrange a meeting with Florian this week or next week in the afternoon\",\n",
        "#     \"Schedule a meeting with Marc tomorrow morning or Thursday afternoon\",\n",
        "#     \"Plan a meeting with the design team for later this month.\",\n",
        "#     \"Schedule a call with the sales director on Friday morning.\",\n",
        "# ]\n",
        "\n",
        "meeting_requests_4 = [\n",
        "    \"Arrange a meeting with Florian this week or next week in the afternoon\",\n",
        "    \"Schedule a meeting with Marc tomorrow morning or Thursday afternoon\",\n",
        "    \"Plan a meeting with the design team for later this month.\",\n",
        "    \"Schedule a call with the sales director on Friday morning.\",\n",
        "    \"Organize a meeting with the marketing team for the end of the week.\",\n",
        "    \"Arrange a call with the IT department for Tuesday afternoon\",\n",
        "    \"Schedule a meeting with John for next Wednesday at 2 PM\",\n",
        "    \"Plan a meeting with the product team for the first week of next month\",\n",
        "    \"Schedule a video conference with the remote team on Monday morning\",\n",
        "    \"Arrange a meeting with the HR department for this Thursday at 10 AM\"\n",
        "]"
      ],
      "metadata": {
        "id": "AGQ-Vsv7iATn"
      },
      "execution_count": null,
      "outputs": []
    },
    {
      "cell_type": "code",
      "source": [
        "# Generated with Meta Llama 3.1 70B Instruct\n",
        "# prompt 2 : Generate 100 examples like these\n",
        "\n",
        "meeting_requests_5 = [\n",
        "    \"Arrange a meeting with Florian this week or next week in the afternoon\",\n",
        "    \"Schedule a meeting with Marc tomorrow morning or Thursday afternoon\",\n",
        "    \"Plan a meeting with the design team for later this month.\",\n",
        "    \"Schedule a call with the sales director on Friday morning.\",\n",
        "    \"Organize a meeting with the marketing team for the end of the week.\",\n",
        "    \"Arrange a call with the IT department for Tuesday afternoon\",\n",
        "    \"Schedule a meeting with John for next Wednesday at 2 PM\",\n",
        "    \"Plan a meeting with the product team for the first week of next month\",\n",
        "    \"Schedule a video conference with the remote team on Monday morning\",\n",
        "    \"Arrange a meeting with the HR department for this Thursday at 10 AM\",\n",
        "    \"Book a meeting with the CEO for next Friday at 3 PM\",\n",
        "    \"Coordinate a meeting with the finance team for this week\",\n",
        "    \"Arrange a meeting with the customer support team for tomorrow\",\n",
        "    \"Schedule a call with the development team for Wednesday afternoon\",\n",
        "    \"Plan a meeting with the operations team for the second week of next month\",\n",
        "    \"Arrange a meeting with the communications team for this afternoon\",\n",
        "    \"Schedule a meeting with the research team for next Monday\",\n",
        "    \"Coordinate a meeting with the logistics team for this week\",\n",
        "    \"Book a meeting with the management team for next Thursday\",\n",
        "    \"Arrange a meeting with the IT support team for today\",\n",
        "    \"Schedule a call with the business development team for Friday morning\",\n",
        "    \"Plan a meeting with the quality assurance team for the third week of next month\",\n",
        "    \"Arrange a meeting with the training team for this morning\",\n",
        "    \"Coordinate a meeting with the procurement team for this week\",\n",
        "    \"Schedule a meeting with the data analytics team for next Tuesday\",\n",
        "    \"Arrange a meeting with the creative team for this afternoon\",\n",
        "    \"Book a meeting with the executive team for next Wednesday\",\n",
        "    \"Arrange a meeting with the recruitment team for tomorrow\",\n",
        "    \"Schedule a call with the facilities team for Thursday morning\",\n",
        "    \"Plan a meeting with the sustainability team for the first week of next month\",\n",
        "    \"Arrange a meeting with the public relations team for this week\",\n",
        "    \"Coordinate a meeting with the supply chain team for this week\",\n",
        "    \"Schedule a meeting with the IT project management team for next Monday\",\n",
        "    \"Arrange a meeting with the digital marketing team for this afternoon\",\n",
        "    \"Book a meeting with the board of directors for next Friday\",\n",
        "    \"Arrange a meeting with the compliance team for this morning\",\n",
        "    \"Schedule a call with the audit team for Wednesday afternoon\",\n",
        "    \"Plan a meeting with the risk management team for the second week of next month\",\n",
        "    \"Arrange a meeting with the cybersecurity team for this week\",\n",
        "    \"Coordinate a meeting with the network team for this week\",\n",
        "    \"Schedule a meeting with the database team for next Tuesday\",\n",
        "    \"Arrange a meeting with the software development team for this afternoon\",\n",
        "    \"Book a meeting with the technical support team for next Thursday\",\n",
        "    \"Arrange a meeting with the technical writing team for tomorrow\",\n",
        "    \"Schedule a call with the graphic design team for Friday morning\",\n",
        "    \"Plan a meeting with the user experience team for the third week of next month\",\n",
        "    \"Arrange a meeting with the customer success team for this morning\",\n",
        "    \"Coordinate a meeting with the sales operations team for this week\",\n",
        "    \"Schedule a meeting with the business intelligence team for next Monday\",\n",
        "    \"Arrange a meeting with the data science team for this afternoon\",\n",
        "    \"Arrange a meeting with the engineering team for this week\",\n",
        "    \"Schedule a call with the manufacturing team for Thursday morning\",\n",
        "    \"Plan a meeting with the logistics and transportation team for the first week of next month\",\n",
        "    \"Arrange a meeting with the warehousing team for this week\",\n",
        "    \"Coordinate a meeting with the inventory management team for this week\",\n",
        "    \"Schedule a meeting with the purchasing team for next Tuesday\",\n",
        "    \"Arrange a meeting with the accounting team for this afternoon\",\n",
        "    \"Book a meeting with the financial planning team for next Wednesday\",\n",
        "    \"Arrange a meeting with the tax team for tomorrow\",\n",
        "    \"Schedule a call with the treasury team for Friday morning\",\n",
        "    \"Plan a meeting with the investor relations team for the second week of next month\",\n",
        "    \"Arrange a meeting with the corporate social responsibility team for this week\",\n",
        "    \"Coordinate a meeting with the community relations team for this week\",\n",
        "    \"Schedule a meeting with the government relations team for next Monday\",\n",
        "    \"Arrange a meeting with the public policy team for this afternoon\",\n",
        "    \"Book a meeting with the regulatory affairs team for next Thursday\",\n",
        "    \"Arrange a meeting with the quality control team for this morning\",\n",
        "    \"Schedule a call with the health and safety team for Wednesday afternoon\",\n",
        "    \"Plan a meeting with the environmental team for the third week of next month\",\n",
        "    \"Arrange a meeting with the facilities management team for this week\",\n",
        "    \"Coordinate a meeting with the maintenance team for this week\",\n",
        "    \"Schedule a meeting with the real estate team for next Tuesday\",\n",
        "    \"Arrange a meeting with the construction team for this afternoon\",\n",
        "    \"Arrange a meeting with the architecture team for this week\",\n",
        "    \"Schedule a call with the urban planning team for Thursday morning\",\n",
        "    \"Plan a meeting with the landscape architecture team for the first week of next month\",\n",
        "    \"Arrange a meeting with the interior design team for this week\",\n",
        "    \"Coordinate a meeting with the graphic design team for this week\",\n",
        "    \"Schedule a meeting with the branding team for next Monday\",\n",
        "    \"Arrange a meeting with the marketing automation team for this afternoon\",\n",
        "    \"Book a meeting with the social media team for next Wednesday\",\n",
        "    \"Arrange a meeting with the content creation team for tomorrow\",\n",
        "    \"Schedule a call with the SEO team for Friday morning\",\n",
        "    \"Plan a meeting with the paid social team for the second week of next month\",\n",
        "    \"Arrange a meeting with the email marketing team for this week\",\n",
        "    \"Coordinate a meeting with the CRM team for this week\",\n",
        "    \"Schedule a meeting with the sales enablement team for next Tuesday\",\n",
        "    \"Arrange a meeting with the customer advocacy team for this afternoon\",\n",
        "    \"Arrange a meeting with the customer insights team for this week\",\n",
        "    \"Schedule a call with the market research team for Thursday morning\",\n",
        "    \"Plan a meeting with the competitive intelligence team for the third week of next month\",\n",
        "    \"Arrange a meeting with the product management team for this week\",\n",
        "    \"Coordinate a meeting with the product development team for this week\",\n",
        "    \"Schedule a meeting with the product launch team for next Monday\",\n",
        "    \"Arrange a meeting with the product marketing team for this afternoon\",\n",
        "    \"Book a meeting with the product support team for next Wednesday\",\n",
        "    \"Arrange a meeting with the technical documentation team for tomorrow\",\n",
        "    \"Schedule a call with the technical training team for Friday morning\",\n",
        "    \"Plan a meeting with the technical writing team for the first week of next month\",\n",
        "    \"Arrange a meeting with the translation team for this week\",\n",
        "    \"Coordinate a meeting with the localization team for this week\",\n",
        "    \"Schedule a meeting with the testing team for next Tuesday\",\n",
        "    \"Arrange a meeting with the QA team for this afternoon\",\n",
        "    \"Arrange a meeting with the IT service desk team for this week\",\n",
        "    \"Schedule a call with the IT project management team for Thursday morning\",\n",
        "    \"Plan a meeting with the IT operations team for the second week of next month\",\n",
        "    \"Arrange a meeting with the IT security team for this week\",\n",
        "    \"Coordinate a meeting with the data protection team for this week\",\n",
        "    \"Schedule a meeting with the data governance team for next Monday\",\n",
        "    \"Arrange a meeting with the data quality team for this afternoon\",\n",
        "    \"Book a meeting with the data architecture team for next Wednesday\",\n",
        "    \"Arrange a meeting with the data engineering team for tomorrow\",\n",
        "    \"Schedule a call with the data science team for Friday morning\",\n",
        "    \"Plan a meeting with the machine learning team for the third week of next month\",\n",
        "    \"Arrange a meeting with the artificial intelligence team for this week\",\n",
        "    \"Coordinate a meeting with the robotics team for this week\",\n",
        "    \"Schedule a meeting with the natural language processing team for next Tuesday\",\n",
        "    \"Arrange a meeting with the computer vision team for this afternoon\",\n",
        "    \"Arrange a meeting with the human resources team for this week\",\n",
        "    \"Schedule a call with the recruitment team for Thursday morning\",\n",
        "    \"Plan a meeting with the talent management team for the first week of next month\",\n",
        "    \"Arrange a meeting with the employee engagement team for this week\",\n",
        "    \"Coordinate a meeting with the benefits administration team for this week\",\n",
        "    \"Schedule a meeting with the payroll team for next Monday\",\n",
        "    \"Arrange a meeting with the time-off management team for this afternoon\",\n",
        "    \"Book a meeting with the performance management team for next Wednesday\",\n",
        "    \"Arrange a meeting with the succession planning team for tomorrow\",\n",
        "    \"Schedule a call with the leadership development team for Friday morning\",\n",
        "    \"Plan a meeting with the diversity and inclusion team for the second week of next month\",\n",
        "    \"Arrange a meeting with the employee communications team for this week\",\n",
        "    \"Coordinate a meeting with the internal communications team for this week\",\n",
        "    \"Schedule a meeting with the external communications team for next Tuesday\",\n",
        "    \"Arrange a meeting with the public relations team for this afternoon\",\n",
        "    \"Arrange a meeting with the crisis communications team for this week\",\n",
        "    \"Schedule a call with the social media management team for Thursday morning\",\n",
        "    \"Plan a meeting with the content management team for the third week of next month\",\n",
        "    \"Arrange a meeting with the digital asset management team for this week\",\n",
        "    \"Coordinate a meeting with the brand management team for this week\",\n",
        "    \"Schedule a meeting with the trademark management team for next Monday\",\n",
        "    \"Arrange a meeting with the copyright management team for this afternoon\"\n",
        "]"
      ],
      "metadata": {
        "id": "YXnBFBwPiAQO"
      },
      "execution_count": null,
      "outputs": []
    },
    {
      "cell_type": "code",
      "source": [
        "# Generated with Meta Llama 3.1 70B Instruct\n",
        "# prompt 3 : generate 100 random sentences related to technology, travel, food, sports, or anything else and put them in a python list\n",
        "\n",
        "random_sentences_4 = [\n",
        "    \"The new smartphone app is available for download on the App Store.\",\n",
        "    \"I'm planning a trip to Japan next year to visit Tokyo.\",\n",
        "    \"The restaurant serves the best sushi in town.\",\n",
        "    \"The football team won the championship game last night.\",\n",
        "    \"The company is launching a new product line next quarter.\",\n",
        "    \"I love trying new craft beers on the weekends.\",\n",
        "    \"The new laptop is so lightweight and portable.\",\n",
        "    \"The city is hosting a music festival next month.\",\n",
        "    \"The recipe for chicken parmesan is on the website.\",\n",
        "    \"The basketball team is on a winning streak.\",\n",
        "    \"The startup is looking for investors for its new project.\",\n",
        "    \"The museum is featuring a new exhibit on ancient civilizations.\",\n",
        "    \"The coffee shop has a new summer menu.\",\n",
        "    \"The park is hosting a free outdoor concert series.\",\n",
        "    \"The new video game is getting great reviews.\",\n",
        "    \"The team is working on a top-secret project.\",\n",
        "    \"The city is known for its vibrant street art scene.\",\n",
        "    \"The restaurant is offering a special promotion for Valentine's Day.\",\n",
        "    \"The new smartphone feature is a game-changer.\",\n",
        "    \"The team is preparing for the big game on Saturday.\",\n",
        "    \"The company is expanding its operations to Europe.\",\n",
        "    \"The festival is featuring a lineup of local artists.\",\n",
        "    \"The new book is a bestseller on Amazon.\",\n",
        "    \"The team is working on a new AI-powered project.\",\n",
        "    \"The city is hosting a marathon next month.\",\n",
        "    \"The restaurant is known for its delicious pasta dishes.\",\n",
        "    \"The company is launching a new marketing campaign.\",\n",
        "    \"The team is on a hot streak in the playoffs.\",\n",
        "    \"The new gadget is a must-have for tech enthusiasts.\",\n",
        "    \"The museum is offering a free admission day next week.\",\n",
        "    \"The coffee shop has a new loyalty program.\",\n",
        "    \"The park is hosting a charity event next weekend.\",\n",
        "    \"The new movie is getting great reviews from critics.\",\n",
        "    \"The team is preparing for the championship game.\",\n",
        "    \"The company is expanding its product line to include sustainable options.\",\n",
        "    \"The festival is featuring a lineup of international artists.\",\n",
        "    \"The new app is available for download on Google Play.\",\n",
        "    \"The restaurant is offering a special menu for Mother's Day.\",\n",
        "    \"The team is working on a new project with a major brand.\",\n",
        "    \"The city is hosting a conference on sustainable energy.\",\n",
        "    \"The coffee shop has a new summer drink menu.\",\n",
        "    \"The park is hosting a free yoga class next weekend.\",\n",
        "    \"The new video game is available for pre-order.\",\n",
        "    \"The team is preparing for the big game on Friday.\",\n",
        "    \"The company is launching a new e-commerce platform.\",\n",
        "    \"The museum is featuring a new exhibit on space exploration.\",\n",
        "    \"The restaurant is known for its delicious burgers.\",\n",
        "    \"The team is on a winning streak in the league.\",\n",
        "    \"The new gadget is a must-have for gamers.\",\n",
        "    \"The city is hosting a festival next month.\",\n",
        "    \"The coffee shop has a new loyalty rewards program.\",\n",
        "    \"The park is hosting a charity run next weekend.\",\n",
        "    \"The new movie is getting great reviews from audiences.\",\n",
        "    \"The team is preparing for the playoffs.\",\n",
        "    \"The company is expanding its operations to Asia.\",\n",
        "    \"The festival is featuring a lineup of local musicians.\",\n",
        "    \"The new app is available for download on the App Store.\",\n",
        "    \"The restaurant is offering a special promotion for Father's Day.\",\n",
        "    \"The team is working on a new project with a major brand.\",\n",
        "    \"The city is hosting a conference on artificial intelligence.\",\n",
        "    \"The coffee shop has a new fall menu.\",\n",
        "    \"The park is hosting a free concert series next month.\",\n",
        "    \"The new video game is available for purchase.\",\n",
        "    \"The team is preparing for the big game on Saturday.\",\n",
        "    \"The company is launching a new product line next quarter.\",\n",
        "    \"The museum is featuring a new exhibit on ancient history.\",\n",
        "    \"The restaurant is known for its delicious seafood.\",\n",
        "    \"The team is on a hot streak in the playoffs.\",\n",
        "    \"The new gadget is a must-have for photographers.\",\n",
        "    \"The city is hosting a marathon next month.\",\n",
        "    \"The coffee shop has a new loyalty program.\",\n",
        "    \"The park is hosting a charity event next weekend.\",\n",
        "    \"The new movie is getting great reviews from critics.\",\n",
        "    \"The team is preparing for the championship game.\",\n",
        "    \"The company is expanding its operations to Latin America.\",\n",
        "    \"The festival is featuring a lineup of international artists.\",\n",
        "    \"The new app is available for download on Google Play.\",\n",
        "    \"The restaurant is offering a special menu for Thanksgiving.\",\n",
        "    \"The team is working on a new project with a major brand.\",\n",
        "    \"The city is hosting a conference on sustainable energy.\",\n",
        "    \"The coffee shop has a new winter menu.\",\n",
        "    \"The park is hosting a free yoga class next weekend.\",\n",
        "    \"The new video game is available for pre-order.\",\n",
        "    \"The team is preparing for the big game on Friday.\",\n",
        "    \"The company is launching a new e-commerce platform.\",\n",
        "    \"The museum is featuring a new exhibit on space exploration.\",\n",
        "    \"The restaurant is known for its delicious sandwiches.\",\n",
        "    \"The team is on a winning streak in the league.\",\n",
        "    \"The new gadget is a must-have for music lovers.\",\n",
        "    \"The city is hosting a festival next month.\",\n",
        "    \"The coffee shop has a new loyalty rewards program.\",\n",
        "    \"The park is hosting a charity run next weekend.\",\n",
        "    \"The new movie is getting great reviews from audiences.\",\n",
        "    \"The team is preparing for the playoffs.\",\n",
        "    \"The company is expanding its operations to Europe.\",\n",
        "    \"The festival is featuring a lineup of local musicians.\",\n",
        "    \"The new app is available for download on the App Store.\",\n",
        "    \"The restaurant is offering a special promotion for Christmas.\",\n",
        "    \"The team is working on a new project with a major brand.\",\n",
        "    \"The city is hosting a conference on artificial intelligence.\",\n",
        "    \"The coffee shop has a new spring menu.\",\n",
        "    \"The park is hosting a free concert series next month.\"\n",
        "]"
      ],
      "metadata": {
        "id": "GjLjmSl0iAL-"
      },
      "execution_count": null,
      "outputs": []
    },
    {
      "cell_type": "code",
      "source": [
        "# Generated with Mistral on Le Chat.\n",
        "# prompt 1 :\n",
        "# Give me 10 sentences of meeting scheduling request and put them in a Python list. Here are some examples :\n",
        "# examples = [\n",
        "#     \"Arrange a meeting with Florian next week in the afternoon\",\n",
        "#     \"Schedule a meeting with Marc tomorrow morning or Thursday afternoon\",\n",
        "#     \"Plan a meeting with the design team for later this month\",\n",
        "#     \"Schedule a call with the sales director on Friday morning\",\n",
        "#     \"I want a call with John for next Wednesday at 2 PM\",\n",
        "# ]\n",
        "\n",
        "meeting_request_5 = [\n",
        "    \"Can you set up a meeting with Lisa for next Monday at 10 AM?\",\n",
        "    \"Please arrange a conference call with the marketing team next Friday afternoon.\",\n",
        "    \"I need to schedule a meeting with the project manager for tomorrow at 3 PM.\",\n",
        "    \"Could you plan a meeting with the HR department for next week?\",\n",
        "    \"Let's schedule a meeting with the finance team for this Thursday morning.\",\n",
        "    \"I would like to arrange a meeting with Sarah for next Tuesday at 11 AM.\",\n",
        "    \"Can we schedule a meeting with the IT team for later this week?\",\n",
        "    \"Please set up a meeting with the operations manager for next Monday afternoon.\",\n",
        "    \"I need to plan a meeting with the legal team for tomorrow evening.\",\n",
        "    \"Could you arrange a meeting with the customer support team for next Friday at 2 PM?\"\n",
        "]\n"
      ],
      "metadata": {
        "id": "XaLoJsYn3yOO"
      },
      "execution_count": null,
      "outputs": []
    },
    {
      "cell_type": "code",
      "source": [
        "# Prompt 2 : Generate 100 more sentences\n",
        "\n",
        "meeting_requests_6 = [\n",
        "    \"Schedule a meeting with Alex for next Tuesday at 9 AM.\",\n",
        "    \"Arrange a meeting with the product team next Wednesday morning.\",\n",
        "    \"Plan a meeting with the development team for this afternoon.\",\n",
        "    \"Set up a meeting with the QA team for tomorrow at 4 PM.\",\n",
        "    \"I need a meeting with the UX team next Monday at 1 PM.\",\n",
        "    \"Schedule a call with the client for Friday at 10 AM.\",\n",
        "    \"Arrange a meeting with the project stakeholders for next Thursday afternoon.\",\n",
        "    \"Plan a meeting with the content team for later this month.\",\n",
        "    \"Set up a meeting with the analytics team for tomorrow morning.\",\n",
        "    \"I need a meeting with the SEO team next Wednesday at 2 PM.\",\n",
        "    \"Schedule a meeting with the PR team for next Monday at 11 AM.\",\n",
        "    \"Arrange a meeting with the event planning team next Friday morning.\",\n",
        "    \"Plan a meeting with the social media team for this afternoon.\",\n",
        "    \"Set up a meeting with the video production team for tomorrow at 3 PM.\",\n",
        "    \"I need a meeting with the graphic design team next Tuesday at 10 AM.\",\n",
        "    \"Schedule a call with the vendor for next Thursday at 9 AM.\",\n",
        "    \"Arrange a meeting with the logistics team next Wednesday afternoon.\",\n",
        "    \"Plan a meeting with the supply chain team for later this week.\",\n",
        "    \"Set up a meeting with the procurement team for tomorrow morning.\",\n",
        "    \"I need a meeting with the legal advisors next Friday at 1 PM.\",\n",
        "    \"Schedule a meeting with the compliance team for next Monday at 2 PM.\",\n",
        "    \"Arrange a meeting with the audit team next Thursday morning.\",\n",
        "    \"Plan a meeting with the risk management team for this afternoon.\",\n",
        "    \"Set up a meeting with the internal audit team for tomorrow at 4 PM.\",\n",
        "    \"I need a meeting with the finance controller next Wednesday at 11 AM.\",\n",
        "    \"Schedule a call with the investor for next Tuesday at 10 AM.\",\n",
        "    \"Arrange a meeting with the board of directors for next Friday afternoon.\",\n",
        "    \"Plan a meeting with the executive team for later this month.\",\n",
        "    \"Set up a meeting with the management team for tomorrow morning.\",\n",
        "    \"I need a meeting with the operations director next Wednesday at 2 PM.\",\n",
        "    \"Schedule a meeting with the HR manager for next Monday at 9 AM.\",\n",
        "    \"Arrange a meeting with the recruitment team next Thursday morning.\",\n",
        "    \"Plan a meeting with the training team for this afternoon.\",\n",
        "    \"Set up a meeting with the employee relations team for tomorrow at 3 PM.\",\n",
        "    \"I need a meeting with the compensation team next Tuesday at 11 AM.\",\n",
        "    \"Schedule a call with the benefits administrator for next Friday at 10 AM.\",\n",
        "    \"Arrange a meeting with the payroll team next Wednesday afternoon.\",\n",
        "    \"Plan a meeting with the talent acquisition team for later this week.\",\n",
        "    \"Set up a meeting with the performance management team for tomorrow morning.\",\n",
        "    \"I need a meeting with the organizational development team next Thursday at 1 PM.\",\n",
        "    \"Schedule a meeting with the learning and development team for next Monday at 2 PM.\",\n",
        "    \"Arrange a meeting with the diversity and inclusion team next Tuesday afternoon.\",\n",
        "    \"Plan a meeting with the employee engagement team for this afternoon.\",\n",
        "    \"Set up a meeting with the corporate communications team for tomorrow at 4 PM.\",\n",
        "    \"I need a meeting with the brand management team next Wednesday at 11 AM.\",\n",
        "    \"Schedule a call with the media relations manager for next Friday at 9 AM.\",\n",
        "    \"Arrange a meeting with the public relations team next Thursday morning.\",\n",
        "    \"Plan a meeting with the crisis management team for later this month.\",\n",
        "    \"Set up a meeting with the reputation management team for tomorrow morning.\",\n",
        "    \"I need a meeting with the stakeholder relations team next Wednesday at 2 PM.\",\n",
        "    \"Schedule a meeting with the community relations team for next Monday at 1 PM.\",\n",
        "    \"Arrange a meeting with the government relations team next Tuesday afternoon.\",\n",
        "    \"Plan a meeting with the regulatory affairs team for this afternoon.\",\n",
        "    \"Set up a meeting with the policy team for tomorrow at 3 PM.\",\n",
        "    \"I need a meeting with the advocacy team next Friday at 11 AM.\",\n",
        "    \"Schedule a call with the lobbyist for next Thursday at 10 AM.\",\n",
        "    \"Arrange a meeting with the political affairs team next Wednesday morning.\",\n",
        "    \"Plan a meeting with the corporate social responsibility team for later this week.\",\n",
        "    \"Set up a meeting with the sustainability team for tomorrow morning.\",\n",
        "    \"I need a meeting with the environmental management team next Thursday at 1 PM.\",\n",
        "    \"Schedule a meeting with the health and safety team for next Monday at 2 PM.\",\n",
        "    \"Arrange a meeting with the security team next Tuesday afternoon.\",\n",
        "    \"Plan a meeting with the business continuity team for this afternoon.\",\n",
        "    \"Set up a meeting with the emergency management team for tomorrow at 4 PM.\",\n",
        "    \"I need a meeting with the disaster recovery team next Wednesday at 11 AM.\",\n",
        "    \"Schedule a call with the incident response manager for next Friday at 9 AM.\",\n",
        "    \"Arrange a meeting with the data protection team next Thursday morning.\",\n",
        "    \"Plan a meeting with the privacy team for later this month.\",\n",
        "    \"Set up a meeting with the information security team for tomorrow morning.\",\n",
        "    \"I need a meeting with the cybersecurity team next Wednesday at 2 PM.\",\n",
        "    \"Schedule a meeting with the IT governance team for next Monday at 1 PM.\",\n",
        "    \"Arrange a meeting with the enterprise architecture team next Tuesday afternoon.\",\n",
        "    \"Plan a meeting with the technology strategy team for this afternoon.\",\n",
        "    \"Set up a meeting with the digital transformation team for tomorrow at 3 PM.\",\n",
        "    \"I need a meeting with the innovation team next Friday at 11 AM.\",\n",
        "    \"Schedule a call with the entrepreneur in residence for next Thursday at 10 AM.\",\n",
        "    \"Arrange a meeting with the research and development team next Wednesday morning.\",\n",
        "    \"Plan a meeting with the product development team for later this week.\",\n",
        "    \"Set up a meeting with the engineering team for tomorrow morning.\",\n",
        "    \"I need a meeting with the quality assurance team next Thursday at 1 PM.\",\n",
        "    \"Schedule a meeting with the testing team for next Monday at 2 PM.\",\n",
        "    \"Arrange a meeting with the deployment team next Tuesday afternoon.\",\n",
        "    \"Plan a meeting with the release management team for this afternoon.\",\n",
        "    \"Set up a meeting with the DevOps team for tomorrow at 4 PM.\",\n",
        "    \"I need a meeting with the site reliability engineering team next Wednesday at 11 AM.\",\n",
        "    \"Schedule a call with the cloud architect for next Friday at 9 AM.\",\n",
        "    \"Arrange a meeting with the infrastructure team next Thursday morning.\",\n",
        "    \"Plan a meeting with the network team for later this month.\",\n",
        "    \"Set up a meeting with the database team for tomorrow morning.\",\n",
        "    \"I need a meeting with the data analytics team next Wednesday at 2 PM.\",\n",
        "    \"Schedule a meeting with the business intelligence team for next Monday at 1 PM.\",\n",
        "    \"Arrange a meeting with the data science team next Tuesday afternoon.\",\n",
        "    \"Plan a meeting with the machine learning team for this afternoon.\",\n",
        "    \"Set up a meeting with the AI team for tomorrow at 3 PM.\",\n",
        "    \"I need a meeting with the robotics team next Friday at 11 AM.\",\n",
        "    \"Schedule a call with the IoT specialist for next Thursday at 10 AM.\",\n",
        "    \"Arrange a meeting with the blockchain team next Wednesday morning.\",\n",
        "    \"Plan a meeting with the cryptography team for later this week.\",\n",
        "    \"Set up a meeting with the quantum computing team for tomorrow morning.\",\n",
        "    \"I need a meeting with the AR/VR team next Thursday at 1 PM.\",\n",
        "    \"Schedule a meeting with the game development team for next Monday at 2 PM.\",\n",
        "    \"Arrange a meeting with the animation team next Tuesday afternoon.\",\n",
        "    \"Plan a meeting with the multimedia team for this afternoon.\",\n",
        "    \"Set up a meeting with the video editing team for tomorrow at 4 PM.\",\n",
        "    \"I need a meeting with the audio production team next Wednesday at 11 AM.\"\n",
        "]\n"
      ],
      "metadata": {
        "id": "oSC5Ioxv3yLl"
      },
      "execution_count": null,
      "outputs": []
    },
    {
      "cell_type": "code",
      "source": [
        "# Prompt 3 : generate 100 random sentences related to technology, travel, food, sports, or anything else and put them in a python list\n",
        "\n",
        "random_sentences_5 = [\n",
        "    \"The latest smartphone model has an incredible camera.\",\n",
        "    \"I'm planning a trip to Japan next summer.\",\n",
        "    \"Sushi is my favorite type of food.\",\n",
        "    \"The soccer match last night was incredibly exciting.\",\n",
        "    \"Virtual reality is changing the way we experience games.\",\n",
        "    \"Paris is known as the city of love and lights.\",\n",
        "    \"I love trying out new recipes from different cuisines.\",\n",
        "    \"The marathon runner broke the world record yesterday.\",\n",
        "    \"Artificial intelligence is revolutionizing healthcare.\",\n",
        "    \"The beaches in Bali are absolutely breathtaking.\",\n",
        "    \"Pizza is a universally loved food.\",\n",
        "    \"The basketball game was a nail-biter until the last second.\",\n",
        "    \"Quantum computing could solve complex problems faster than ever.\",\n",
        "    \"Rome is filled with ancient history and beautiful architecture.\",\n",
        "    \"I enjoy cooking Italian dishes at home.\",\n",
        "    \"The tennis tournament had some surprising upsets.\",\n",
        "    \"Electric cars are becoming more popular every year.\",\n",
        "    \"New York City is always bustling with energy.\",\n",
        "    \"Thai food has a perfect balance of flavors.\",\n",
        "    \"The cricket match went on for hours and was very intense.\",\n",
        "    \"Blockchain technology is securing digital transactions.\",\n",
        "    \"The Northern Lights in Iceland are a must-see.\",\n",
        "    \"Mexican street tacos are incredibly delicious.\",\n",
        "    \"The golf tournament had some impressive performances.\",\n",
        "    \"Augmented reality is enhancing educational experiences.\",\n",
        "    \"Sydney's harbor is one of the most beautiful in the world.\",\n",
        "    \"I love experimenting with vegan recipes.\",\n",
        "    \"The rugby match was very physical and intense.\",\n",
        "    \"Cloud computing is making data storage more efficient.\",\n",
        "    \"The Grand Canyon is a natural wonder worth visiting.\",\n",
        "    \"Indian curries have a rich and spicy flavor.\",\n",
        "    \"The cycling race was thrilling to watch.\",\n",
        "    \"Wearable technology is becoming more integrated into daily life.\",\n",
        "    \"The Great Wall of China is an engineering marvel.\",\n",
        "    \"I enjoy baking fresh bread on weekends.\",\n",
        "    \"The Formula 1 race had some high-speed action.\",\n",
        "    \"Machine learning algorithms are improving search engines.\",\n",
        "    \"The Amazon rainforest is home to diverse wildlife.\",\n",
        "    \"Middle Eastern cuisine has a variety of tasty dishes.\",\n",
        "    \"The boxing match was a display of skill and strategy.\",\n",
        "    \"Renewable energy sources are becoming more prevalent.\",\n",
        "    \"The pyramids of Egypt are awe-inspiring structures.\",\n",
        "    \"I love making homemade pasta from scratch.\",\n",
        "    \"The surfing competition had some impressive waves.\",\n",
        "    \"Cybersecurity is crucial for protecting digital information.\",\n",
        "    \"The Maldives is a paradise for beach lovers.\",\n",
        "    \"Korean BBQ is a fun and interactive dining experience.\",\n",
        "    \"The ice hockey game was fast-paced and exciting.\",\n",
        "    \"Robotics is transforming manufacturing processes.\",\n",
        "    \"The Aurora Borealis in Norway is a magical sight.\",\n",
        "    \"I enjoy grilling steaks on a summer evening.\",\n",
        "    \"The volleyball match was full of energy and teamwork.\",\n",
        "    \"Big data analytics is helping businesses make informed decisions.\",\n",
        "    \"The Serengeti in Africa offers amazing wildlife safaris.\",\n",
        "    \"Greek food is known for its fresh and vibrant flavors.\",\n",
        "    \"The badminton tournament had some skilled players.\",\n",
        "    \"Internet of Things (IoT) devices are making homes smarter.\",\n",
        "    \"The fjords in Norway are stunningly beautiful.\",\n",
        "    \"I love trying out different types of cheese.\",\n",
        "    \"The table tennis match was quick and intense.\",\n",
        "    \"5G technology is improving mobile connectivity.\",\n",
        "    \"The Great Barrier Reef is a diver's dream.\",\n",
        "    \"Jamaican jerk chicken is full of flavor.\",\n",
        "    \"The archery competition required precision and focus.\",\n",
        "    \"Virtual assistants are making daily tasks easier.\",\n",
        "    \"The Swiss Alps offer breathtaking mountain views.\",\n",
        "    \"I enjoy making homemade salsa and guacamole.\",\n",
        "    \"The handball match was dynamic and fast-paced.\",\n",
        "    \"Biotechnology is advancing medical treatments.\",\n",
        "    \"The Galapagos Islands are home to unique species.\",\n",
        "    \"Vietnamese pho is a comforting and flavorful soup.\",\n",
        "    \"The fencing match was a display of agility and skill.\",\n",
        "    \"Autonomous vehicles are the future of transportation.\",\n",
        "    \"The Taj Mahal in India is a symbol of love and architecture.\",\n",
        "    \"I love experimenting with different types of tea.\",\n",
        "    \"The field hockey match was competitive and exciting.\",\n",
        "    \"Nanotechnology is enabling new medical innovations.\",\n",
        "    \"The Grand Bazaar in Istanbul is a shopper's paradise.\",\n",
        "    \"Peruvian ceviche is a refreshing and delicious dish.\",\n",
        "    \"The curling match required strategy and precision.\",\n",
        "    \"Drones are being used for various commercial applications.\",\n",
        "    \"The Blue Lagoon in Iceland is a relaxing geothermal spa.\",\n",
        "    \"I enjoy making homemade ice cream.\",\n",
        "    \"The lacrosse game was full of action and skill.\",\n",
        "    \"Quantum mechanics is exploring the fundamentals of the universe.\",\n",
        "    \"The Machu Picchu in Peru is an ancient wonder.\",\n",
        "    \"Ethiopian injera is a unique and tasty bread.\",\n",
        "    \"The synchronized swimming event was graceful and artistic.\",\n",
        "    \"Artificial neural networks are mimicking human brain functions.\",\n",
        "    \"The Dead Sea in Israel is known for its healing properties.\",\n",
        "    \"I love trying out different types of coffee.\",\n",
        "    \"The water polo match was intense and physical.\",\n",
        "    \"Genetic engineering is advancing agricultural practices.\",\n",
        "    \"The Petra in Jordan is an ancient city carved in stone.\",\n",
        "    \"Moroccan tagines are flavorful and aromatic dishes.\",\n",
        "    \"The synchronized diving event required perfect timing.\",\n",
        "    \"Augmented reality glasses are enhancing virtual experiences.\",\n",
        "    \"The Salar de Uyuni in Bolivia is the world's largest salt flat.\",\n",
        "    \"I enjoy making homemade jam and preserves.\",\n",
        "    \"The modern pentathlon was a test of multiple skills.\",\n",
        "    \"Cognitive computing is improving AI capabilities.\",\n",
        "    \"The Angkor Wat in Cambodia is a magnificent temple complex.\",\n",
        "    \"Lebanese meze is a variety of delicious small dishes.\",\n",
        "    \"The trampoline gymnastics event was thrilling to watch.\",\n",
        "    \"Smart cities are using technology to improve urban living.\",\n",
        "    \"The Plitvice Lakes in Croatia are a natural wonder.\",\n",
        "    \"I love trying out different types of chocolate.\",\n",
        "    \"The rhythmic gymnastics event was a display of grace and flexibility.\",\n",
        "    \"Edge computing is reducing latency in data processing.\",\n",
        "    \"The Ha Long Bay in Vietnam is known for its limestone islands.\",\n",
        "    \"Spanish paella is a hearty and flavorful dish.\",\n",
        "    \"The artistic swimming event combined athleticism and artistry.\",\n",
        "    \"Quantum cryptography is securing communication channels.\",\n",
        "    \"The Victoria Falls in Zambia and Zimbabwe are a spectacular sight.\",\n",
        "    \"I enjoy making homemade pickles and fermented foods.\"\n",
        "]\n"
      ],
      "metadata": {
        "id": "uDNEpJxJ3yBY"
      },
      "execution_count": null,
      "outputs": []
    },
    {
      "cell_type": "code",
      "source": [
        "# Prompt 3 : generate 100 random sentences similar to the following examples :\n",
        "# ['The CEO will be visiting our office next week',\n",
        "# 'The new smartphone is expected to be released next month',\n",
        "# 'The city is hosting a marathon next month',\n",
        "# 'The park is hosting a free concert series next year',\n",
        "# ]\n",
        "\n",
        "# Note : I had to stop the response generation because the list was much larger than requested\n",
        "\n",
        "random_sentences_6 = [\n",
        "    \"The CTO will be attending our team meeting next Friday.\",\n",
        "    \"The latest laptop model is set to launch next quarter.\",\n",
        "    \"The town is organizing a food festival next weekend.\",\n",
        "    \"The museum is planning an art exhibition next spring.\",\n",
        "    \"The COO will be inspecting our facilities next Tuesday.\",\n",
        "    \"The new gaming console is scheduled for release next fall.\",\n",
        "    \"The community is holding a charity run next Saturday.\",\n",
        "    \"The theater is presenting a Broadway show next winter.\",\n",
        "    \"The CFO will be reviewing our budget next Monday.\",\n",
        "    \"The updated software version is expected next summer.\",\n",
        "    \"The school is arranging a science fair next month.\",\n",
        "    \"The gallery is showcasing local artists next autumn.\",\n",
        "    \"The CEO will be addressing the company next week.\",\n",
        "    \"The new electric car model is anticipated next year.\",\n",
        "    \"The neighborhood is having a block party next Sunday.\",\n",
        "    \"The arena is hosting a basketball tournament next season.\",\n",
        "    \"The CIO will be discussing our IT strategy next Thursday.\",\n",
        "    \"The latest smartwatch is due to be released next month.\",\n",
        "    \"The library is conducting a book fair next weekend.\",\n",
        "    \"The stadium is organizing a soccer match next week.\",\n",
        "    \"The CMO will be presenting the marketing plan next Friday.\",\n",
        "    \"The new tablet is set to hit the market next quarter.\",\n",
        "    \"The city is planning a cultural festival next spring.\",\n",
        "    \"The auditorium is hosting a classical music concert next month.\",\n",
        "    \"The COO will be visiting our branch next Tuesday.\",\n",
        "    \"The latest gaming laptop is scheduled for release next fall.\",\n",
        "    \"The community center is holding a health fair next Saturday.\",\n",
        "    \"The theater is presenting a ballet performance next winter.\",\n",
        "    \"The CFO will be reviewing our financial reports next Monday.\",\n",
        "    \"The updated operating system is expected next summer.\",\n",
        "    \"The school is arranging a career fair next month.\",\n",
        "    \"The gallery is showcasing contemporary art next autumn.\",\n",
        "    \"The CEO will be attending our annual meeting next week.\",\n",
        "    \"The new hybrid car model is anticipated next year.\",\n",
        "    \"The neighborhood is having a street fair next Sunday.\",\n",
        "    \"The arena is hosting a volleyball tournament next season.\",\n",
        "    \"The CIO will be discussing our cybersecurity plan next Thursday.\",\n",
        "    \"The latest fitness tracker is due to be released next month.\",\n",
        "    \"The library is conducting a poetry reading next weekend.\",\n",
        "    \"The stadium is organizing a rugby match next week.\",\n",
        "    \"The CMO will be presenting the brand strategy next Friday.\",\n",
        "    \"The new e-reader is set to hit the market next quarter.\",\n",
        "    \"The city is planning a film festival next spring.\",\n",
        "    \"The auditorium is hosting a jazz concert next month.\",\n",
        "    \"The COO will be visiting our headquarters next Tuesday.\",\n",
        "    \"The latest gaming PC is scheduled for release next fall.\",\n",
        "    \"The community center is holding a job fair next Saturday.\",\n",
        "    \"The theater is presenting an opera performance next winter.\",\n",
        "    \"The CFO will be reviewing our expense reports next Monday.\",\n",
        "    \"The updated mobile app is expected next summer.\",\n",
        "    \"The school is arranging a science exhibition next month.\",\n",
        "    \"The gallery is showcasing modern art next autumn.\",\n",
        "    \"The CEO will be attending our board meeting next week.\",\n",
        "    \"The new electric scooter model is anticipated next year.\",\n",
        "    \"The neighborhood is having a farmers market next Sunday.\",\n",
        "    \"The arena is hosting a hockey tournament next season.\",\n",
        "    \"The CIO will be discussing our data analytics plan next Thursday.\",\n",
        "    \"The latest smart home device is due to be released next month.\",\n",
        "    \"The library is conducting a storytelling session next weekend.\",\n",
        "    \"The stadium is organizing a cricket match next week.\",\n",
        "    \"The CMO will be presenting the digital marketing plan next Friday.\",\n",
        "    \"The new virtual reality headset is set to hit the market next quarter.\",\n",
        "    \"The city is planning a music festival next spring.\",\n",
        "    \"The auditorium is hosting a rock concert next month.\",\n",
        "    \"The COO will be visiting our regional office next Tuesday.\",\n",
        "    \"The latest gaming monitor is scheduled for release next fall.\",\n",
        "    \"The community center is holding a senior citizen event next Saturday.\",\n",
        "    \"The theater is presenting a drama performance next winter.\",\n",
        "    \"The CFO will be reviewing our investment portfolio next Monday.\",\n",
        "    \"The updated enterprise software is expected next summer.\",\n",
        "    \"The school is arranging a robotics competition next month.\",\n",
        "    \"The gallery is showcasing abstract art next autumn.\",\n",
        "    \"The CEO will be attending our executive meeting next week.\",\n",
        "    \"The new electric bike model is anticipated next year.\",\n",
        "    \"The neighborhood is having a community picnic next Sunday.\",\n",
        "    \"The arena is hosting a tennis tournament next season.\",\n",
        "    \"The CIO will be discussing our cloud computing strategy next Thursday.\",\n",
        "    \"The latest wearable technology is due to be released next month.\",\n",
        "    \"The library is conducting a book club meeting next weekend.\",\n",
        "    \"The stadium is organizing a football match next week.\",\n",
        "    \"The CMO will be presenting the content marketing plan next Friday.\",\n",
        "    \"The new augmented reality device is set to hit the market next quarter.\",\n",
        "    \"The city is planning a theater festival next spring.\",\n",
        "    \"The auditorium is hosting a pop concert next month.\",\n",
        "    \"The COO will be visiting our satellite office next Tuesday.\",\n",
        "    \"The latest gaming keyboard is scheduled for release next fall.\",\n",
        "    \"The community center is holding a youth program next Saturday.\",\n",
        "    \"The theater is presenting a comedy performance next winter.\",\n",
        "    \"The CFO will be reviewing our tax reports next Monday.\",\n",
        "    \"The updated customer relationship management software is expected next summer.\",\n",
        "    \"The school is arranging a hackathon next month.\",\n",
        "    \"The gallery is showcasing impressionist art next autumn.\",\n",
        "    \"The CEO will be attending our strategic planning meeting next week.\",\n",
        "    \"The new electric moped model is anticipated next year.\",\n",
        "    \"The neighborhood is having a community barbecue next Sunday.\",\n",
        "    \"The arena is hosting a badminton tournament next season.\",\n",
        "    \"The CIO will be discussing our artificial intelligence initiatives next Thursday.\",\n",
        "    \"The latest smart speaker is due to be released next month.\",\n",
        "    \"The library is conducting a writing workshop next weekend.\",\n",
        "    \"The stadium is organizing a baseball match next week.\",\n",
        "    \"The CMO will be presenting the social media marketing plan next Friday.\",\n",
        "    \"The new mixed reality device is set to hit the market next quarter.\",\n",
        "    \"The city is planning a dance festival next spring.\",\n",
        "    \"The auditorium is hosting a folk concert next month.\",\n",
        "    \"The COO will be visiting our subsidiary next Tuesday.\",\n",
        "    \"The latest gaming mouse is scheduled for release next fall.\",\n",
        "    \"The community center is holding a fitness class next Saturday.\",\n",
        "    \"The theater is presenting a musical performance next winter.\",\n",
        "    \"The CFO will be reviewing our budget projections next Monday.\",\n",
        "    \"The updated enterprise resource planning software is expected next summer.\",\n",
        "    \"The school is arranging a coding competition next month.\",\n",
        "    \"The gallery is showcasing surrealist art next autumn.\",\n",
        "    \"The CEO will be attending our quarterly review next week.\",\n",
        "    \"The new electric skateboard model is anticipated next year.\",\n",
        "    \"The neighborhood is having a community garden event next Sunday.\",\n",
        "    \"The arena is hosting a table tennis tournament next season.\",\n",
        "    \"The CIO will be discussing our big data analytics next Thursday.\",\n",
        "    \"The latest smart thermostat is due to be released next month.\",\n",
        "    \"The library is conducting a reading challenge next weekend.\",\n",
        "    \"The stadium is organizing a soccer match next week.\",\n",
        "    \"The CMO will be presenting the email marketing plan next Friday.\",\n",
        "    \"The new holographic display is set to hit the market next quarter.\",\n",
        "    \"The city is planning a literary festival next spring.\",\n",
        "    \"The auditorium is hosting a classical concert next month.\",\n",
        "    \"The COO will be visiting our affiliate next Tuesday.\",\n",
        "    \"The latest gaming headset is scheduled for release next fall.\",\n",
        "    \"The community center is holding a cooking class next Saturday.\",\n",
        "    \"The theater is presenting a puppet show next winter.\",\n",
        "    \"The CFO will be reviewing our financial forecasts next Monday.\",\n",
        "    \"The updated supply chain management software is expected next summer.\",\n",
        "    \"The school is arranging a math competition next month.\",\n",
        "    \"The gallery is showcasing expressionist art next autumn.\",\n",
        "    \"The CEO will be attending our annual conference next week.\",\n",
        "    \"The new electric unicycle model is anticipated next year.\",\n",
        "    \"The neighborhood is having a community cleanup next Sunday.\",\n",
        "    \"The arena is hosting a squash tournament next season.\",\n",
        "    \"The CIO will be discussing our internet of things strategy next Thursday.\",\n",
        "    \"The latest smart lock is due to be released next month.\",\n",
        "    \"The library is conducting a storytime event next weekend.\",\n",
        "    \"The stadium is organizing a rugby match next week.\",\n",
        "    \"The CMO will be presenting the influencer marketing plan next Friday.\",\n",
        "    \"The new virtual reality treadmill is set to hit the market next quarter.\",\n",
        "    \"The city is planning a comedy festival next spring.\",\n",
        "    \"The auditorium is hosting a jazz festival next month.\",\n",
        "    \"The COO will be visiting our branch office next Tuesday.\",\n",
        "    \"The latest gaming chair is scheduled for release next fall.\",\n",
        "    \"The community center is holding a dance class next Saturday.\",\n",
        "    \"The theater is presenting a magic show next winter.\",\n",
        "    \"The CFO will be reviewing our investment strategy next Monday.\",\n",
        "    \"The updated customer service software is expected next summer.\",\n",
        "    \"The school is arranging a debate competition next month.\",\n",
        "    \"The gallery is showcasing cubist art next autumn.\",\n",
        "    \"The CEO will be attending our board meeting next week.\",\n",
        "    \"The new electric kick scooter model is anticipated next year.\",\n",
        "    \"The neighborhood is having a community movie night next Sunday.\",\n",
        "    \"The arena is hosting a handball tournament next season.\",\n",
        "    \"The CIO will be discussing our machine learning initiatives next Thursday.\",\n",
        "    \"The latest smart doorbell is due to be released next month.\",\n",
        "    \"The library is conducting a book signing event next weekend.\",\n",
        "    \"The stadium is organizing a cricket match next week.\",\n",
        "    \"The CMO will be presenting the video marketing plan next Friday.\",\n",
        "    \"The new augmented reality glasses are set to hit the market next quarter.\",\n",
        "    \"The city is planning a film festival next spring.\",\n",
        "    \"The auditorium is hosting a rock concert next month.\",\n",
        "    \"The COO will be visiting our regional office next Tuesday.\",\n",
        "    \"The latest gaming desk is scheduled for release next fall.\",\n",
        "    \"The community center is holding a senior citizen event next Saturday.\",\n",
        "    \"The theater is presenting a drama performance next winter.\",\n",
        "    \"The CFO will be reviewing our investment portfolio next Monday.\",\n",
        "    \"The updated enterprise software is expected next summer.\",\n",
        "    \"The school is arranging a robotics competition next month.\",\n",
        "    \"The gallery is showcasing abstract art next autumn.\",\n",
        "    \"The CEO will be attending our executive meeting next week.\",\n",
        "    \"The new electric bike model is anticipated next year.\",\n",
        "    \"The neighborhood is having a community picnic next Sunday.\",\n",
        "    \"The arena is hosting a tennis tournament next season.\",\n",
        "    \"The CIO will be discussing our cloud computing strategy next Thursday.\",\n",
        "    \"The latest wearable technology is due to be released next month.\",\n",
        "    \"The library is conducting a book club meeting next weekend.\",\n",
        "    \"The stadium is organizing a football match next week.\",\n",
        "    \"The CMO will be presenting the content marketing plan next Friday.\",\n",
        "    \"The new augmented reality device is set to hit the market next quarter.\",\n",
        "    \"The city is planning a theater festival next spring.\",\n",
        "    \"The auditorium is hosting a pop concert next month.\",\n",
        "    \"The COO will be visiting our satellite office next Tuesday.\",\n",
        "    \"The latest gaming keyboard is scheduled for release next fall.\",\n",
        "    \"The community center is holding a youth program next Saturday.\",\n",
        "    \"The theater is presenting a comedy performance next winter.\",\n",
        "    \"The CFO will be reviewing our tax reports next Monday.\",\n",
        "    \"The updated customer relationship management software is expected next summer.\",\n",
        "    \"The school is arranging a hackathon next month.\",\n",
        "    \"The gallery is showcasing impressionist art next autumn.\",\n",
        "    \"The CEO will be attending our strategic planning meeting next week.\",\n",
        "    \"The new electric moped model is anticipated next year.\",\n",
        "    \"The neighborhood is having a community barbecue next Sunday.\",\n",
        "    \"The arena is hosting a badminton tournament next season.\",\n",
        "    \"The CIO will be discussing our artificial intelligence initiatives next Thursday.\",\n",
        "    \"The latest smart speaker is due to be released next month.\",\n",
        "    \"The library is conducting a writing workshop next weekend.\",\n",
        "    \"The stadium is organizing a baseball match next week.\",\n",
        "    \"The CMO will be presenting the social media marketing plan next Friday.\",\n",
        "    \"The new mixed reality device is set to hit the market next quarter.\",\n",
        "    \"The city is planning a dance festival next spring.\",\n",
        "    \"The auditorium is hosting a folk concert next month.\",\n",
        "    \"The COO will be visiting our subsidiary next Tuesday.\",\n",
        "    \"The latest gaming mouse is scheduled for release next fall.\",\n",
        "    \"The community center is holding a fitness class next Saturday.\",\n",
        "    \"The theater is presenting a musical performance next winter.\",\n",
        "    \"The CFO will be reviewing our budget projections next Monday.\",\n",
        "    \"The updated enterprise resource planning software is expected next summer.\",\n",
        "    \"The school is arranging a coding competition next month.\",\n",
        "    \"The gallery is showcasing surrealist art next autumn.\",\n",
        "    \"The CEO will be attending our quarterly review next week.\",\n",
        "    \"The new electric skateboard model is anticipated next year.\",\n",
        "    \"The neighborhood is having a community garden event next Sunday.\",\n",
        "    \"The arena is hosting a table tennis tournament next season.\",\n",
        "    \"The CIO will be discussing our big data analytics next Thursday.\",\n",
        "    \"The latest smart thermostat is due to be released next month.\",\n",
        "    \"The library is conducting a reading challenge next weekend.\",\n",
        "    \"The stadium is organizing a soccer match next week.\",\n",
        "    \"The CMO will be presenting the email marketing plan next Friday.\",\n",
        "    \"The new holographic display is set to hit the market next quarter.\",\n",
        "    \"The city is planning a literary festival next spring.\",\n",
        "    \"The auditorium is hosting a classical concert next month.\",\n",
        "    \"The COO will be visiting our affiliate next Tuesday.\",\n",
        "    \"The latest gaming headset is scheduled for release next fall.\",\n",
        "    \"The community center is holding a cooking class next Saturday.\",\n",
        "    \"The theater is presenting a puppet show next winter.\",\n",
        "    \"The CFO will be reviewing our financial forecasts next Monday.\",\n",
        "    \"The updated supply chain management software is expected next summer.\",\n",
        "    \"The school is arranging a math competition next month.\",\n",
        "    \"The gallery is showcasing expressionist art next autumn.\",\n",
        "    \"The CEO will be attending our annual conference next week.\",\n",
        "    \"The new electric unicycle model is anticipated next year.\",\n",
        "    \"The neighborhood is having a community cleanup next Sunday.\",\n",
        "    \"The arena is hosting a squash tournament next season.\",\n",
        "    \"The CIO will be discussing our internet of things strategy next Thursday.\",\n",
        "    \"The latest smart lock is due to be released next month.\",\n",
        "    \"The library is conducting a storytime event next weekend.\",\n",
        "    \"The stadium is organizing a rugby match next week.\",\n",
        "    \"The CMO will be presenting the influencer marketing plan next Friday.\",\n",
        "    \"The new virtual reality treadmill is set to hit the market next quarter.\",\n",
        "    \"The city is planning a comedy festival next spring.\",\n",
        "    \"The auditorium is hosting a jazz festival next month.\",\n",
        "    \"The COO will be visiting our branch office next Tuesday.\",\n",
        "    \"The latest gaming chair is scheduled for release next fall.\",\n",
        "    \"The community center is holding a dance class next Saturday.\",\n",
        "    \"The theater is presenting a magic show next winter.\",\n",
        "    \"The CFO will be reviewing our investment strategy next Monday.\",\n",
        "    \"The updated customer service software is expected next summer.\",\n",
        "    \"The school is arranging a debate competition next month.\",\n",
        "    \"The gallery is showcasing cubist art next autumn.\",\n",
        "    \"The CEO will be attending our board meeting next week.\",\n",
        "    \"The new electric kick scooter model is anticipated next year.\",\n",
        "    \"The neighborhood is having a community movie night next Sunday.\",\n",
        "    \"The arena is hosting a handball tournament next season.\",\n",
        "    \"The CIO will be discussing our machine learning initiatives next Thursday.\",\n",
        "    \"The latest smart doorbell is due to be released next month.\",\n",
        "    \"The library is conducting a book signing event next weekend.\",\n",
        "    \"The stadium is organizing a cricket match next week.\",\n",
        "    \"The CMO will be presenting the video marketing plan next Friday.\",\n",
        "    \"The new augmented reality glasses are set to hit the market next quarter.\",\n",
        "    \"The city is planning a film festival next spring.\",\n",
        "    \"The auditorium is hosting a rock concert next month.\",\n",
        "    \"The COO will be visiting our regional office next Tuesday.\",\n",
        "    \"The latest gaming desk is scheduled for release next fall.\",\n",
        "    \"The community center is holding a senior citizen event next Saturday.\",\n",
        "    \"The theater is presenting a drama performance next winter.\",\n",
        "    \"The CFO will be reviewing our investment portfolio next Monday.\",\n",
        "    \"The updated enterprise software is expected next summer.\",\n",
        "    \"The school is arranging a robotics competition next month.\",\n",
        "    \"The gallery is showcasing abstract art next autumn.\",\n",
        "    \"The CEO will be attending our executive meeting next week.\",\n",
        "    \"The new electric bike model is anticipated next year.\",\n",
        "    \"The neighborhood is having a community picnic next Sunday.\",\n",
        "    \"The arena is hosting a tennis tournament next season.\",\n",
        "    \"The CIO will be discussing our cloud computing strategy next Thursday.\",\n",
        "    \"The latest wearable technology is due to be released next month.\",\n",
        "    \"The library is conducting a book club meeting next weekend.\",\n",
        "    \"The stadium is organizing a football match next week.\",\n",
        "    \"The CMO will be presenting the content marketing plan next Friday.\",\n",
        "    \"The new augmented reality device is set to hit the market next quarter.\",\n",
        "    \"The city is planning a theater festival next spring.\",\n",
        "    \"The auditorium is hosting a pop concert next month.\",\n",
        "    \"The COO will be visiting our satellite office next Tuesday.\",\n",
        "    \"The latest gaming keyboard is scheduled for release next fall.\",\n",
        "    \"The community center is holding a youth program next Saturday.\",\n",
        "    \"The theater is presenting a comedy performance next winter.\",\n",
        "    \"The CFO will be reviewing our tax reports next Monday.\",\n",
        "    \"The updated customer relationship management software is expected next summer.\",\n",
        "    \"The school is arranging a hackathon next month.\",\n",
        "    \"The gallery is showcasing impressionist art next autumn.\",\n",
        "    \"The CEO will be attending our strategic planning meeting next week.\",\n",
        "    \"The new electric moped model is anticipated next year.\",\n",
        "    \"The neighborhood is having a community barbecue next Sunday.\",\n",
        "    \"The arena is hosting a badminton tournament next season.\",\n",
        "    \"The CIO will be discussing our artificial intelligence initiatives next Thursday.\",\n",
        "    \"The latest smart speaker is due to be released next month.\",\n",
        "    \"The library is conducting a writing workshop next weekend.\",\n",
        "    \"The stadium is organizing a baseball match next week.\",\n",
        "    \"The CMO will be presenting the social media marketing plan next Friday.\",\n",
        "    \"The new mixed reality device is set to hit the market next quarter.\",\n",
        "    \"The city is planning a dance festival next spring.\",\n",
        "    \"The auditorium is hosting a folk concert next month.\",\n",
        "    \"The COO will be visiting our subsidiary next Tuesday.\",\n",
        "    \"The latest gaming mouse is scheduled for release next fall.\",\n",
        "    \"The community center is holding a fitness class next Saturday.\",\n",
        "    \"The theater is presenting a musical performance next winter.\",\n",
        "    \"The CFO will be reviewing our budget projections next Monday.\",\n",
        "    \"The updated enterprise resource planning software is expected next summer.\",\n",
        "    \"The school is arranging a coding competition next month.\",\n",
        "    \"The gallery is showcasing surrealist art next autumn.\",\n",
        "    \"The CEO will be attending our quarterly review next week.\",\n",
        "    \"The new electric skateboard model is anticipated next year.\",\n",
        "    \"The neighborhood is having a community garden event next Sunday.\",\n",
        "    \"The arena is hosting a table tennis tournament next season.\",\n",
        "    \"The CIO will be discussing our big data analytics next Thursday.\",\n",
        "    \"The latest smart thermostat is due to be released next month.\",\n",
        "    \"The library is conducting a reading challenge next weekend.\",\n",
        "    \"The stadium is organizing a soccer match next week.\",\n",
        "    \"The CMO will be presenting the email marketing plan next Friday.\",\n",
        "    \"The new holographic display is set to hit the market next quarter.\",\n",
        "    \"The city is planning a literary festival next spring.\",\n",
        "    \"The auditorium is hosting a classical concert next month.\",\n",
        "    \"The COO will be visiting our affiliate next Tuesday.\",\n",
        "    \"The latest gaming headset is scheduled for release next fall.\",\n",
        "    \"The community center is holding a cooking class next Saturday.\",\n",
        "    \"The theater is presenting a puppet show next winter.\",\n",
        "    \"The CFO will be reviewing our financial forecasts next Monday.\",\n",
        "    \"The updated supply chain management software is expected next summer.\",\n",
        "    \"The school is arranging a math competition next month.\",\n",
        "    \"The gallery is showcasing expressionist art next autumn.\",\n",
        "    \"The CEO will be attending our annual conference next week.\",\n",
        "    \"The new electric unicycle model is anticipated next year.\",\n",
        "    \"The neighborhood is having a community cleanup next Sunday.\",\n",
        "    \"The arena is hosting a squash tournament next season.\",\n",
        "    \"The CIO will be discussing our internet of things strategy next Thursday.\",\n",
        "    \"The latest smart lock is due to be released next month.\",\n",
        "    \"The library is conducting a storytime event next weekend.\",\n",
        "    \"The stadium is organizing a rugby match next week.\",\n",
        "    \"The CMO will be presenting the influencer marketing plan next Friday.\",\n",
        "    \"The new virtual reality treadmill is set to hit the market next quarter.\",\n",
        "    \"The city is planning a comedy festival next spring.\",\n",
        "    \"The auditorium is hosting a jazz festival next month.\",\n",
        "    \"The COO will be visiting our branch office next Tuesday.\",\n",
        "    \"The latest gaming chair is scheduled for release next fall.\",\n",
        "    \"The community center is holding a dance class next Saturday.\",\n",
        "    \"The theater is presenting a magic show next winter.\",\n",
        "    \"The CFO will be reviewing our investment strategy next Monday.\",\n",
        "    \"The updated customer service software is expected next summer.\",\n",
        "    \"The school is arranging a debate competition next month.\",\n",
        "    \"The gallery is showcasing cubist art next autumn.\",\n",
        "    \"The CEO will be attending our board meeting next week.\",\n",
        "    \"The new electric kick scooter model is anticipated next year.\",\n",
        "    \"The neighborhood is having a community movie night next Sunday.\",\n",
        "    \"The arena is hosting a handball tournament next season.\",\n",
        "    \"The CIO will be discussing our machine learning initiatives next Thursday.\",\n",
        "    \"The latest smart doorbell is due to be released next month.\",\n",
        "    \"The library is conducting a book signing event next weekend.\",\n",
        "    \"The stadium is organizing a cricket match next week.\",\n",
        "    \"The CMO will be presenting the video marketing plan next Friday.\",\n",
        "    \"The new augmented reality glasses are set to hit the market next quarter.\",\n",
        "    \"The city is planning a film festival next spring.\",\n",
        "    \"The auditorium is hosting a rock concert next month.\",\n",
        "    \"The COO will be visiting our regional office next Tuesday.\",\n",
        "    \"The latest gaming desk is scheduled for release next fall.\",\n",
        "    \"The community center is holding a senior citizen event next Saturday.\",\n",
        "    \"The theater is presenting a drama performance next winter.\",\n",
        "    \"The CFO will be reviewing our investment portfolio next Monday.\",\n",
        "    \"The updated enterprise software is expected next summer.\",\n",
        "    \"The school is arranging a robotics competition next month.\",\n",
        "    \"The gallery is showcasing abstract art next autumn.\",\n",
        "    \"The CEO will be attending our executive meeting next week.\",\n",
        "    \"The new electric bike model is anticipated next year.\",\n",
        "    \"The neighborhood is having a community picnic next Sunday.\",\n",
        "    \"The arena is hosting a tennis tournament next season.\",\n",
        "    \"The CIO will be discussing our cloud computing strategy next Thursday.\",\n",
        "    \"The latest wearable technology is due to be released next month.\",\n",
        "    \"The library is conducting a book club meeting next weekend.\",\n",
        "    \"The stadium is organizing a football match next week.\",\n",
        "    \"The CMO will be presenting the content marketing plan next Friday.\"\n",
        "]\n",
        "len(random_sentences_6)"
      ],
      "metadata": {
        "colab": {
          "base_uri": "https://localhost:8080/"
        },
        "id": "nlq71IZ2JJDZ",
        "outputId": "005f99df-0095-4105-ad0d-7eb88dd3f27f"
      },
      "execution_count": 2,
      "outputs": [
        {
          "output_type": "execute_result",
          "data": {
            "text/plain": [
              "381"
            ]
          },
          "metadata": {},
          "execution_count": 2
        }
      ]
    },
    {
      "cell_type": "markdown",
      "source": [
        "# Creating HF dataset"
      ],
      "metadata": {
        "id": "iqkTO_2ukGuv"
      }
    },
    {
      "cell_type": "code",
      "source": [
        "labels = [\"meeting scheduling\", \"other\"]"
      ],
      "metadata": {
        "id": "7dNmxa5nkGMk"
      },
      "execution_count": null,
      "outputs": []
    },
    {
      "cell_type": "code",
      "source": [
        "meeting_requests = meeting_requests_1 + meeting_requests_2 + meeting_requests_3 + meeting_requests_4 + meeting_requests_5\n",
        "random_sentences = random_sentences_1 + random_sentences_2 + random_sentences_3 + random_sentences_4\n",
        "print(len(meeting_requests))\n",
        "print(len(random_sentences))"
      ],
      "metadata": {
        "colab": {
          "base_uri": "https://localhost:8080/"
        },
        "id": "rwy0su7DmqW4",
        "outputId": "b071de1a-7251-42c1-8f82-d14f2fe06939"
      },
      "execution_count": null,
      "outputs": [
        {
          "output_type": "stream",
          "name": "stdout",
          "text": [
            "176\n",
            "132\n"
          ]
        }
      ]
    },
    {
      "cell_type": "code",
      "source": [
        "ds_dict = {\"text\": meeting_requests, \"label\": [labels[0]] * len(meeting_requests)}\n",
        "len(ds_dict[\"text\"]), len(ds_dict[\"label\"])"
      ],
      "metadata": {
        "colab": {
          "base_uri": "https://localhost:8080/"
        },
        "id": "-BmqBST-Gggs",
        "outputId": "10d5897f-6b9d-4f0d-c1f6-d91fb9263d3a"
      },
      "execution_count": null,
      "outputs": [
        {
          "output_type": "execute_result",
          "data": {
            "text/plain": [
              "(176, 176)"
            ]
          },
          "metadata": {},
          "execution_count": 267
        }
      ]
    },
    {
      "cell_type": "code",
      "source": [
        "ds_dict[\"text\"] += random_sentences\n",
        "ds_dict[\"label\"] += [labels[1]] * len(random_sentences)"
      ],
      "metadata": {
        "id": "M3HUScCsDPcO"
      },
      "execution_count": null,
      "outputs": []
    },
    {
      "cell_type": "code",
      "source": [
        "len(ds_dict[\"text\"]), len(ds_dict[\"label\"])"
      ],
      "metadata": {
        "colab": {
          "base_uri": "https://localhost:8080/"
        },
        "id": "SEj_S6lnDPZ1",
        "outputId": "8dd8f8af-bc6e-4797-dc3e-26df2ce3809f"
      },
      "execution_count": null,
      "outputs": [
        {
          "output_type": "execute_result",
          "data": {
            "text/plain": [
              "(308, 308)"
            ]
          },
          "metadata": {},
          "execution_count": 269
        }
      ]
    },
    {
      "cell_type": "code",
      "source": [
        "# # Generate dataset from generators\n",
        "\n",
        "# def gen_meeting_requests():\n",
        "#   for meeting_request in meeting_requests:\n",
        "#     yield {\n",
        "#         \"text\": meeting_request,\n",
        "#         \"label\": labels[0]\n",
        "#     }\n",
        "\n",
        "\n",
        "# def gen_random_sentences():\n",
        "#   for random_sentence in random_sentences:\n",
        "#     yield {\n",
        "#         \"text\": random_sentence,\n",
        "#         \"label\": labels[1]\n",
        "#     }\n",
        "\n",
        "\n",
        "# import datasets\n",
        "# from datasets import Dataset\n",
        "\n",
        "# ds_meeting = Dataset.from_generator(gen_meeting_requests)\n",
        "# ds_random = Dataset.from_generator(gen_random_sentences)\n",
        "\n",
        "# ds = datasets.concatenate_datasets([ds_meeting, ds_random])\n",
        "# ds"
      ],
      "metadata": {
        "id": "1-M5pH5dV_8l"
      },
      "execution_count": null,
      "outputs": []
    },
    {
      "cell_type": "code",
      "source": [
        "from datasets import Features, Value, ClassLabel\n",
        "features = Features(\n",
        "    {\n",
        "        'text': Value('string'),\n",
        "        'label': ClassLabel(num_classes=2, names=['meeting scheduling request', 'other'])\n",
        "    }\n",
        ")\n",
        "features"
      ],
      "metadata": {
        "colab": {
          "base_uri": "https://localhost:8080/"
        },
        "id": "F9cIKvkUIHM4",
        "outputId": "246cad16-d3b9-4c40-e3c6-62f69cd65f9f"
      },
      "execution_count": null,
      "outputs": [
        {
          "output_type": "execute_result",
          "data": {
            "text/plain": [
              "{'text': Value(dtype='string', id=None),\n",
              " 'label': ClassLabel(names=['meeting scheduling request', 'other'], id=None)}"
            ]
          },
          "metadata": {},
          "execution_count": 270
        }
      ]
    },
    {
      "cell_type": "code",
      "source": [
        "from datasets import Dataset\n",
        "\n",
        "ds = Dataset.from_dict(ds_dict, features=features)\n",
        "ds"
      ],
      "metadata": {
        "colab": {
          "base_uri": "https://localhost:8080/"
        },
        "id": "THPgiB4XGfOl",
        "outputId": "2d3453ed-2832-47c0-cd53-b3f75341fa91"
      },
      "execution_count": null,
      "outputs": [
        {
          "output_type": "execute_result",
          "data": {
            "text/plain": [
              "Dataset({\n",
              "    features: ['text', 'label'],\n",
              "    num_rows: 308\n",
              "})"
            ]
          },
          "metadata": {},
          "execution_count": 271
        }
      ]
    },
    {
      "cell_type": "code",
      "source": [
        "ds.features"
      ],
      "metadata": {
        "colab": {
          "base_uri": "https://localhost:8080/"
        },
        "id": "TR-zPMZTIfK5",
        "outputId": "53386817-919c-4f36-dcd4-e596e30e7881"
      },
      "execution_count": null,
      "outputs": [
        {
          "output_type": "execute_result",
          "data": {
            "text/plain": [
              "{'text': Value(dtype='string', id=None),\n",
              " 'label': ClassLabel(names=['meeting scheduling request', 'other'], id=None)}"
            ]
          },
          "metadata": {},
          "execution_count": 272
        }
      ]
    },
    {
      "cell_type": "code",
      "source": [
        "ds[0]"
      ],
      "metadata": {
        "id": "DAO6MYjUmJ02",
        "colab": {
          "base_uri": "https://localhost:8080/"
        },
        "outputId": "0a02b2d1-ccc0-48f2-9b7c-bf0cbcfdc474"
      },
      "execution_count": null,
      "outputs": [
        {
          "output_type": "execute_result",
          "data": {
            "text/plain": [
              "{'text': 'Arrange a meeting with Florian this week or next week in the afternoon',\n",
              " 'label': 0}"
            ]
          },
          "metadata": {},
          "execution_count": 273
        }
      ]
    },
    {
      "cell_type": "code",
      "source": [
        "# # create a new column with the numeric label verbalised as label_text (e.g. \"meeting scheduling request\" instead of \"0\")\n",
        "\n",
        "# label_map = {\n",
        "#     i: label_text\n",
        "#     for i, label_text in enumerate(ds.features[\"label\"].names)\n",
        "# }\n",
        "\n",
        "# def add_label_text(example):\n",
        "#     example[\"label_text\"] = label_map[example[\"label\"]]\n",
        "#     return example\n",
        "\n",
        "# ds = ds.map(add_label_text)\n",
        "\n",
        "# print(ds)"
      ],
      "metadata": {
        "id": "G7iAmjDCVi1c"
      },
      "execution_count": null,
      "outputs": []
    },
    {
      "cell_type": "markdown",
      "source": [
        "# Drop duplicated sentences"
      ],
      "metadata": {
        "id": "KwI7YHTdh_84"
      }
    },
    {
      "cell_type": "markdown",
      "source": [
        "## Using pandas and raw text"
      ],
      "metadata": {
        "id": "0188ULY6da5-"
      }
    },
    {
      "cell_type": "code",
      "source": [
        "%%time\n",
        "\n",
        "df = ds.to_pandas()\n",
        "print(df.shape)\n",
        "df.drop_duplicates(subset=[\"text\"], inplace=True)\n",
        "print(df.shape)"
      ],
      "metadata": {
        "colab": {
          "base_uri": "https://localhost:8080/"
        },
        "id": "Bcp-qHmada3A",
        "outputId": "199b425c-bb51-4876-84a1-dc9a8c3a6273"
      },
      "execution_count": null,
      "outputs": [
        {
          "output_type": "stream",
          "name": "stdout",
          "text": [
            "(308, 2)\n",
            "(264, 2)\n",
            "CPU times: user 3.34 ms, sys: 33 µs, total: 3.37 ms\n",
            "Wall time: 4.13 ms\n"
          ]
        }
      ]
    },
    {
      "cell_type": "markdown",
      "source": [
        "## Tokenization of the hugging face dataset and then drop using pandas on the tokenized column"
      ],
      "metadata": {
        "id": "NRnT6DwPdkcL"
      }
    },
    {
      "cell_type": "code",
      "source": [
        "from transformers import AutoTokenizer\n",
        "\n",
        "tokenizer = AutoTokenizer.from_pretrained(\"bert-base-uncased\")"
      ],
      "metadata": {
        "id": "yE3gROAoGgeA"
      },
      "execution_count": null,
      "outputs": []
    },
    {
      "cell_type": "code",
      "source": [
        "def tokenization(example):\n",
        "    return {\"tokenized\": \" \".join(tokenizer.tokenize(example[\"text\"]))}"
      ],
      "metadata": {
        "id": "OqPivbjdOWGp"
      },
      "execution_count": null,
      "outputs": []
    },
    {
      "cell_type": "code",
      "source": [
        "%%time\n",
        "\n",
        "ds = ds.map(tokenization)\n",
        "df = ds.to_pandas()\n",
        "print(df.shape)\n",
        "df.drop_duplicates(subset=[\"tokenized\"], inplace=True)\n",
        "print(df.shape)"
      ],
      "metadata": {
        "colab": {
          "base_uri": "https://localhost:8080/",
          "height": 120,
          "referenced_widgets": [
            "fd3a1a802b744c3aa5e68c72e9fe5ec4",
            "16e80ab6dc174544a6e3297374c21408",
            "831f9225dc384f27ab17c3554aec1f44",
            "3b48c3b738d24a698dd47e0e62b1d17e",
            "814aa3cf888f46739364d045a0cbbe71",
            "0e92f61ed6b2444dbb9bd6011778668f",
            "a16eb49ef307468a80ca665e7b573edf",
            "3a2dd6e05394475cb55e680441f1b27d",
            "b46c6a06d6f84e4a99daf2313362b4be",
            "e8c86cb501d84254a990bfa1b33e8c7c",
            "ec14a28d05304987b57da2ca3bdab4d4"
          ]
        },
        "id": "tAfcnxmveHX8",
        "outputId": "e96b5c4a-4871-4a19-8b08-3fc1811c80a3"
      },
      "execution_count": null,
      "outputs": [
        {
          "output_type": "display_data",
          "data": {
            "text/plain": [
              "Map:   0%|          | 0/308 [00:00<?, ? examples/s]"
            ],
            "application/vnd.jupyter.widget-view+json": {
              "version_major": 2,
              "version_minor": 0,
              "model_id": "fd3a1a802b744c3aa5e68c72e9fe5ec4"
            }
          },
          "metadata": {}
        },
        {
          "output_type": "stream",
          "name": "stdout",
          "text": [
            "(308, 3)\n",
            "(264, 3)\n",
            "CPU times: user 71.2 ms, sys: 3.74 ms, total: 74.9 ms\n",
            "Wall time: 84.3 ms\n"
          ]
        }
      ]
    },
    {
      "cell_type": "markdown",
      "source": [
        "## Tokenization of the pandas dataset and drop using the tokenized column"
      ],
      "metadata": {
        "id": "g3sYuumDeHMi"
      }
    },
    {
      "cell_type": "code",
      "source": [
        "ds = Dataset.from_dict(ds_dict, features=features)"
      ],
      "metadata": {
        "id": "ZVsKYS2efjgd"
      },
      "execution_count": null,
      "outputs": []
    },
    {
      "cell_type": "code",
      "source": [
        "def tokenization(example):\n",
        "    return \" \".join(tokenizer.tokenize(example))"
      ],
      "metadata": {
        "id": "c2zSy1WJXhGR"
      },
      "execution_count": null,
      "outputs": []
    },
    {
      "cell_type": "code",
      "source": [
        "%%time\n",
        "\n",
        "df = ds.to_pandas()\n",
        "df[\"tokenized\"] = df[\"text\"].apply(tokenization)\n",
        "print(df.shape)\n",
        "df.drop_duplicates(subset=[\"tokenized\"], inplace=True)\n",
        "print(df.shape)"
      ],
      "metadata": {
        "colab": {
          "base_uri": "https://localhost:8080/"
        },
        "id": "A2QYGMlrXO2G",
        "outputId": "51ceb51d-2e7b-4553-b1b4-b57cd313dfa4"
      },
      "execution_count": null,
      "outputs": [
        {
          "output_type": "stream",
          "name": "stdout",
          "text": [
            "(308, 3)\n",
            "(264, 3)\n",
            "CPU times: user 23.7 ms, sys: 0 ns, total: 23.7 ms\n",
            "Wall time: 23.4 ms\n"
          ]
        }
      ]
    },
    {
      "cell_type": "markdown",
      "source": [
        "## Using CountVectorize from scikit-learn"
      ],
      "metadata": {
        "id": "AGSWkdDMcohp"
      }
    },
    {
      "cell_type": "code",
      "source": [
        "from sklearn.feature_extraction.text import CountVectorizer\n",
        "import pandas as pd"
      ],
      "metadata": {
        "id": "L6YnW6W5j1Ps"
      },
      "execution_count": null,
      "outputs": []
    },
    {
      "cell_type": "code",
      "source": [
        "%%time\n",
        "\n",
        "vectorizer = CountVectorizer()\n",
        "X = vectorizer.fit_transform(ds[\"text\"][:])\n",
        "\n",
        "X_df = pd.DataFrame(X.toarray(), columns=vectorizer.get_feature_names_out())\n",
        "X_df.drop_duplicates(inplace=True)\n",
        "df = ds.to_pandas()\n",
        "print(df.shape)\n",
        "df = df.loc[X_df.index]\n",
        "print(df.shape)"
      ],
      "metadata": {
        "colab": {
          "base_uri": "https://localhost:8080/"
        },
        "id": "6KPY7CyLYSA7",
        "outputId": "bc0643c9-372e-4139-d0f7-028c8781cb81"
      },
      "execution_count": null,
      "outputs": [
        {
          "output_type": "stream",
          "name": "stdout",
          "text": [
            "(308, 2)\n",
            "(264, 2)\n",
            "CPU times: user 48.3 ms, sys: 909 µs, total: 49.2 ms\n",
            "Wall time: 49.8 ms\n"
          ]
        }
      ]
    },
    {
      "cell_type": "markdown",
      "source": [
        "## From pandas to HF dataset"
      ],
      "metadata": {
        "id": "-XLADCzMlBVD"
      }
    },
    {
      "cell_type": "code",
      "source": [
        "Dataset.from_pandas?"
      ],
      "metadata": {
        "id": "LMdQsSSTlO9y"
      },
      "execution_count": null,
      "outputs": []
    },
    {
      "cell_type": "code",
      "source": [
        "ds = Dataset.from_pandas(df, preserve_index=False)\n",
        "ds"
      ],
      "metadata": {
        "colab": {
          "base_uri": "https://localhost:8080/"
        },
        "id": "N9b4QSBHlBQL",
        "outputId": "3b8ed728-1505-4c30-ef57-6f1ddca08f5d"
      },
      "execution_count": null,
      "outputs": [
        {
          "output_type": "execute_result",
          "data": {
            "text/plain": [
              "Dataset({\n",
              "    features: ['text', 'label'],\n",
              "    num_rows: 264\n",
              "})"
            ]
          },
          "metadata": {},
          "execution_count": 291
        }
      ]
    },
    {
      "cell_type": "code",
      "source": [
        "import datasets\n",
        "\n",
        "ds = ds.cast_column(\"label\", datasets.ClassLabel(names=labels))\n",
        "ds.features"
      ],
      "metadata": {
        "colab": {
          "base_uri": "https://localhost:8080/",
          "height": 85,
          "referenced_widgets": [
            "6afce9b2703e44d5bc4fc4fb9e27359b",
            "a22cf3e8bd5a4fe299d7ec4a8fed8177",
            "d648eea4dae94e3eaee1203f9dd20f66",
            "44f6d4270ca04dbe86531bf5914ca335",
            "999a743e6c6e4e79bdcba7c125376f48",
            "c65018eb13a24933997e6ca9bac62ef5",
            "49b0fc1e7dad4e4ab629e4dd5355a4c8",
            "e216cb157c41484ab8e14228d988a86b",
            "8f47d8c1337349d0a01b842db6ebcef3",
            "363b3939b9394ab08ba01066e393b6b5",
            "f7c6b3558b2e4d76acc2620f253c1942"
          ]
        },
        "id": "RpUgILUElZqx",
        "outputId": "27af8d2d-9dd5-4368-92d2-5c5766486f67"
      },
      "execution_count": null,
      "outputs": [
        {
          "output_type": "display_data",
          "data": {
            "text/plain": [
              "Casting the dataset:   0%|          | 0/264 [00:00<?, ? examples/s]"
            ],
            "application/vnd.jupyter.widget-view+json": {
              "version_major": 2,
              "version_minor": 0,
              "model_id": "6afce9b2703e44d5bc4fc4fb9e27359b"
            }
          },
          "metadata": {}
        },
        {
          "output_type": "execute_result",
          "data": {
            "text/plain": [
              "{'text': Value(dtype='string', id=None),\n",
              " 'label': ClassLabel(names=['meeting scheduling request', 'other'], id=None)}"
            ]
          },
          "metadata": {},
          "execution_count": 293
        }
      ]
    },
    {
      "cell_type": "markdown",
      "source": [
        "# Save data to disk"
      ],
      "metadata": {
        "id": "2dkDuv-fLpnP"
      }
    },
    {
      "cell_type": "code",
      "source": [
        "from google.colab import drive\n",
        "drive.mount('/content/drive')"
      ],
      "metadata": {
        "colab": {
          "base_uri": "https://localhost:8080/"
        },
        "id": "QLwjX1O_k3Jq",
        "outputId": "8c555e33-ab87-4be5-b4cb-fe3b7467572d"
      },
      "execution_count": null,
      "outputs": [
        {
          "output_type": "stream",
          "name": "stdout",
          "text": [
            "Drive already mounted at /content/drive; to attempt to forcibly remount, call drive.mount(\"/content/drive\", force_remount=True).\n"
          ]
        }
      ]
    },
    {
      "cell_type": "code",
      "source": [
        "ds.save_to_disk(\"/content/drive/MyDrive/Colab Notebooks/AI Meeting Assistant/data\")"
      ],
      "metadata": {
        "id": "XdeIOAlIpQ88",
        "colab": {
          "base_uri": "https://localhost:8080/",
          "height": 49,
          "referenced_widgets": [
            "908e46eae7e84825825717e30ca2b51f",
            "b7c6fbbf739a427ca531f62941201c9a",
            "026d8b06c4df4bb8bd25c9038421de7e",
            "3e45306c06d74bfab42a1009168ffab9",
            "9ec72b7a5cf04f99bf68373c2f841a24",
            "9abd9b4ba0fb41279bd72116fe494f1e",
            "9e2101fc682241b3a7e40d19424f6f8d",
            "ace6ee53293d44e2974231d8d3d5f0c6",
            "1786c78ef7ff4e5dbe12f12c1b002798",
            "5277c5f791ed4d41a666da72092c23a9",
            "700d83a463a94325a9cfc514a6a5f50b"
          ]
        },
        "outputId": "483d92c2-4e4b-470d-863d-53917020d633"
      },
      "execution_count": null,
      "outputs": [
        {
          "output_type": "display_data",
          "data": {
            "text/plain": [
              "Saving the dataset (0/1 shards):   0%|          | 0/264 [00:00<?, ? examples/s]"
            ],
            "application/vnd.jupyter.widget-view+json": {
              "version_major": 2,
              "version_minor": 0,
              "model_id": "908e46eae7e84825825717e30ca2b51f"
            }
          },
          "metadata": {}
        }
      ]
    },
    {
      "cell_type": "code",
      "source": [
        "from datasets import load_from_disk\n",
        "\n",
        "loaded_ds = load_from_disk(\"./data\")"
      ],
      "metadata": {
        "id": "J6SvMOrTpRAv"
      },
      "execution_count": null,
      "outputs": []
    },
    {
      "cell_type": "code",
      "source": [
        "loaded_ds"
      ],
      "metadata": {
        "id": "tcNzkXMgpREL",
        "colab": {
          "base_uri": "https://localhost:8080/"
        },
        "outputId": "20ac253c-37ad-4e0c-c21a-4edf884d2231"
      },
      "execution_count": null,
      "outputs": [
        {
          "output_type": "execute_result",
          "data": {
            "text/plain": [
              "Dataset({\n",
              "    features: ['text', 'label'],\n",
              "    num_rows: 308\n",
              "})"
            ]
          },
          "metadata": {},
          "execution_count": 299
        }
      ]
    },
    {
      "cell_type": "code",
      "source": [
        "loaded_ds.features"
      ],
      "metadata": {
        "id": "Ma1azIOXx31D",
        "colab": {
          "base_uri": "https://localhost:8080/"
        },
        "outputId": "b687b019-e1f6-4cfc-b3bf-07ab3f552230"
      },
      "execution_count": null,
      "outputs": [
        {
          "output_type": "execute_result",
          "data": {
            "text/plain": [
              "{'text': Value(dtype='string', id=None),\n",
              " 'label': ClassLabel(names=['meeting scheduling request', 'other'], id=None)}"
            ]
          },
          "metadata": {},
          "execution_count": 300
        }
      ]
    },
    {
      "cell_type": "code",
      "source": [],
      "metadata": {
        "id": "lo6emHvFl0kR"
      },
      "execution_count": null,
      "outputs": []
    }
  ]
}